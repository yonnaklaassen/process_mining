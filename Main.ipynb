{
 "cells": [
  {
   "cell_type": "code",
   "execution_count": 3,
   "id": "be9ad274-fbce-429f-8898-302b1f119871",
   "metadata": {},
   "outputs": [
    {
     "name": "stderr",
     "output_type": "stream",
     "text": [
      "parsing log, completed traces :: 100%|█████████████████████████████████████████████████| 10/10 [00:00<00:00, 308.17it/s]\n",
      "/home/nawras/.local/lib/python3.8/site-packages/pm4py/objects/log/util/dataframe_utils.py:176: UserWarning: Could not infer format, so each element will be parsed individually, falling back to `dateutil`. To ensure parsing is consistent and as-expected, please specify a format.\n",
      "  df[col] = pd.to_datetime(df[col], utc=True)\n",
      "/home/nawras/.local/lib/python3.8/site-packages/pm4py/objects/log/util/dataframe_utils.py:176: UserWarning: Could not infer format, so each element will be parsed individually, falling back to `dateutil`. To ensure parsing is consistent and as-expected, please specify a format.\n",
      "  df[col] = pd.to_datetime(df[col], utc=True)\n",
      "parsing log, completed traces :: 100%|███████████████████████████████████████████████████| 5/5 [00:00<00:00, 317.32it/s]\n",
      "/home/nawras/.local/lib/python3.8/site-packages/pm4py/objects/log/util/dataframe_utils.py:176: UserWarning: Could not infer format, so each element will be parsed individually, falling back to `dateutil`. To ensure parsing is consistent and as-expected, please specify a format.\n",
      "  df[col] = pd.to_datetime(df[col], utc=True)\n",
      "/home/nawras/.local/lib/python3.8/site-packages/pm4py/objects/log/util/dataframe_utils.py:176: UserWarning: Could not infer format, so each element will be parsed individually, falling back to `dateutil`. To ensure parsing is consistent and as-expected, please specify a format.\n",
      "  df[col] = pd.to_datetime(df[col], utc=True)\n",
      "replaying log with TBR, completed variants :: 100%|███████████████████████████████████████| 5/5 [00:00<00:00, 99.61it/s]\n"
     ]
    },
    {
     "name": "stdout",
     "output_type": "stream",
     "text": [
      "heuristics_token_replay TrainConnector: PowerBI TestConnector: PowerBI Fitness: 1.0\n"
     ]
    },
    {
     "name": "stderr",
     "output_type": "stream",
     "text": [
      "aligning log, completed variants :: 100%|█████████████████████████████████████████████████| 5/5 [00:00<00:00, 19.82it/s]\n"
     ]
    },
    {
     "name": "stdout",
     "output_type": "stream",
     "text": [
      "heuristics_alignment TrainConnector: PowerBI TestConnector: PowerBI Fitness: 0.9726973684210527\n"
     ]
    },
    {
     "name": "stderr",
     "output_type": "stream",
     "text": [
      "replaying log with TBR, completed variants :: 100%|███████████████████████████████████████| 5/5 [00:00<00:00, 23.73it/s]\n"
     ]
    },
    {
     "name": "stdout",
     "output_type": "stream",
     "text": [
      "inductive_token_replay TrainConnector: PowerBI TestConnector: PowerBI Fitness: 0.944663213564621\n"
     ]
    },
    {
     "name": "stderr",
     "output_type": "stream",
     "text": [
      "parsing log, completed traces :: 100%|███████████████████████████████████████████████████| 4/4 [00:00<00:00, 284.97it/s]\n",
      "/home/nawras/.local/lib/python3.8/site-packages/pm4py/objects/log/util/dataframe_utils.py:176: UserWarning: Could not infer format, so each element will be parsed individually, falling back to `dateutil`. To ensure parsing is consistent and as-expected, please specify a format.\n",
      "  df[col] = pd.to_datetime(df[col], utc=True)\n",
      "/home/nawras/.local/lib/python3.8/site-packages/pm4py/objects/log/util/dataframe_utils.py:176: UserWarning: Could not infer format, so each element will be parsed individually, falling back to `dateutil`. To ensure parsing is consistent and as-expected, please specify a format.\n",
      "  df[col] = pd.to_datetime(df[col], utc=True)\n",
      "replaying log with TBR, completed variants :: 100%|███████████████████████████████████████| 4/4 [00:00<00:00, 93.89it/s]\n"
     ]
    },
    {
     "name": "stdout",
     "output_type": "stream",
     "text": [
      "heuristics_token_replay TrainConnector: PowerBI TestConnector: rss Fitness: 0.75\n"
     ]
    },
    {
     "name": "stderr",
     "output_type": "stream",
     "text": [
      "aligning log, completed variants :: 100%|█████████████████████████████████████████████████| 4/4 [00:00<00:00, 15.68it/s]\n"
     ]
    },
    {
     "name": "stdout",
     "output_type": "stream",
     "text": [
      "heuristics_alignment TrainConnector: PowerBI TestConnector: rss Fitness: 0.8344863731656185\n"
     ]
    },
    {
     "name": "stderr",
     "output_type": "stream",
     "text": [
      "replaying log with TBR, completed variants :: 100%|███████████████████████████████████████| 4/4 [00:00<00:00, 18.47it/s]\n"
     ]
    },
    {
     "name": "stdout",
     "output_type": "stream",
     "text": [
      "inductive_token_replay TrainConnector: PowerBI TestConnector: rss Fitness: 0.919784366464197\n"
     ]
    },
    {
     "name": "stderr",
     "output_type": "stream",
     "text": [
      "parsing log, completed traces :: 100%|███████████████████████████████████████████████████| 5/5 [00:00<00:00, 424.94it/s]\n",
      "/home/nawras/.local/lib/python3.8/site-packages/pm4py/objects/log/util/dataframe_utils.py:176: UserWarning: Could not infer format, so each element will be parsed individually, falling back to `dateutil`. To ensure parsing is consistent and as-expected, please specify a format.\n",
      "  df[col] = pd.to_datetime(df[col], utc=True)\n",
      "/home/nawras/.local/lib/python3.8/site-packages/pm4py/objects/log/util/dataframe_utils.py:176: UserWarning: Could not infer format, so each element will be parsed individually, falling back to `dateutil`. To ensure parsing is consistent and as-expected, please specify a format.\n",
      "  df[col] = pd.to_datetime(df[col], utc=True)\n",
      "replaying log with TBR, completed variants :: 100%|██████████████████████████████████████| 5/5 [00:00<00:00, 129.62it/s]\n"
     ]
    },
    {
     "name": "stdout",
     "output_type": "stream",
     "text": [
      "heuristics_token_replay TrainConnector: PowerBI TestConnector: sendMail Fitness: 0.85\n"
     ]
    },
    {
     "name": "stderr",
     "output_type": "stream",
     "text": [
      "aligning log, completed variants :: 100%|█████████████████████████████████████████████████| 5/5 [00:00<00:00, 22.93it/s]\n"
     ]
    },
    {
     "name": "stdout",
     "output_type": "stream",
     "text": [
      "heuristics_alignment TrainConnector: PowerBI TestConnector: sendMail Fitness: 0.8221959930313589\n"
     ]
    },
    {
     "name": "stderr",
     "output_type": "stream",
     "text": [
      "replaying log with TBR, completed variants :: 100%|███████████████████████████████████████| 5/5 [00:00<00:00, 18.49it/s]\n"
     ]
    },
    {
     "name": "stdout",
     "output_type": "stream",
     "text": [
      "inductive_token_replay TrainConnector: PowerBI TestConnector: sendMail Fitness: 0.9287514465364483\n"
     ]
    },
    {
     "name": "stderr",
     "output_type": "stream",
     "text": [
      "parsing log, completed traces :: 100%|███████████████████████████████████████████████████| 4/4 [00:00<00:00, 227.69it/s]\n",
      "/home/nawras/.local/lib/python3.8/site-packages/pm4py/objects/log/util/dataframe_utils.py:176: UserWarning: Could not infer format, so each element will be parsed individually, falling back to `dateutil`. To ensure parsing is consistent and as-expected, please specify a format.\n",
      "  df[col] = pd.to_datetime(df[col], utc=True)\n",
      "/home/nawras/.local/lib/python3.8/site-packages/pm4py/objects/log/util/dataframe_utils.py:176: UserWarning: Could not infer format, so each element will be parsed individually, falling back to `dateutil`. To ensure parsing is consistent and as-expected, please specify a format.\n",
      "  df[col] = pd.to_datetime(df[col], utc=True)\n",
      "replaying log with TBR, completed variants :: 100%|███████████████████████████████████████| 4/4 [00:00<00:00, 93.53it/s]\n"
     ]
    },
    {
     "name": "stdout",
     "output_type": "stream",
     "text": [
      "heuristics_token_replay TrainConnector: PowerBI TestConnector: SQL Fitness: 0.8125\n"
     ]
    },
    {
     "name": "stderr",
     "output_type": "stream",
     "text": [
      "aligning log, completed variants :: 100%|█████████████████████████████████████████████████| 4/4 [00:00<00:00,  8.72it/s]\n"
     ]
    },
    {
     "name": "stdout",
     "output_type": "stream",
     "text": [
      "heuristics_alignment TrainConnector: PowerBI TestConnector: SQL Fitness: 0.8879762898067027\n"
     ]
    },
    {
     "name": "stderr",
     "output_type": "stream",
     "text": [
      "replaying log with TBR, completed variants :: 100%|███████████████████████████████████████| 4/4 [00:00<00:00, 10.83it/s]\n"
     ]
    },
    {
     "name": "stdout",
     "output_type": "stream",
     "text": [
      "inductive_token_replay TrainConnector: PowerBI TestConnector: SQL Fitness: 0.925561054890857\n"
     ]
    },
    {
     "name": "stderr",
     "output_type": "stream",
     "text": [
      "parsing log, completed traces :: 100%|███████████████████████████████████████████████████| 3/3 [00:00<00:00, 407.81it/s]\n",
      "/home/nawras/.local/lib/python3.8/site-packages/pm4py/objects/log/util/dataframe_utils.py:176: UserWarning: Could not infer format, so each element will be parsed individually, falling back to `dateutil`. To ensure parsing is consistent and as-expected, please specify a format.\n",
      "  df[col] = pd.to_datetime(df[col], utc=True)\n",
      "/home/nawras/.local/lib/python3.8/site-packages/pm4py/objects/log/util/dataframe_utils.py:176: UserWarning: Could not infer format, so each element will be parsed individually, falling back to `dateutil`. To ensure parsing is consistent and as-expected, please specify a format.\n",
      "  df[col] = pd.to_datetime(df[col], utc=True)\n",
      "replaying log with TBR, completed variants :: 100%|██████████████████████████████████████| 3/3 [00:00<00:00, 148.44it/s]\n"
     ]
    },
    {
     "name": "stdout",
     "output_type": "stream",
     "text": [
      "heuristics_token_replay TrainConnector: PowerBI TestConnector: teams Fitness: 1.0\n"
     ]
    },
    {
     "name": "stderr",
     "output_type": "stream",
     "text": [
      "aligning log, completed variants :: 100%|█████████████████████████████████████████████████| 3/3 [00:00<00:00, 32.19it/s]\n"
     ]
    },
    {
     "name": "stdout",
     "output_type": "stream",
     "text": [
      "heuristics_alignment TrainConnector: PowerBI TestConnector: teams Fitness: 0.8763285024154589\n"
     ]
    },
    {
     "name": "stderr",
     "output_type": "stream",
     "text": [
      "replaying log with TBR, completed variants :: 100%|███████████████████████████████████████| 3/3 [00:00<00:00, 28.31it/s]\n"
     ]
    },
    {
     "name": "stdout",
     "output_type": "stream",
     "text": [
      "inductive_token_replay TrainConnector: PowerBI TestConnector: teams Fitness: 0.9478487384215774\n"
     ]
    },
    {
     "name": "stderr",
     "output_type": "stream",
     "text": [
      "parsing log, completed traces :: 100%|███████████████████████████████████████████████████| 8/8 [00:00<00:00, 415.64it/s]\n",
      "/home/nawras/.local/lib/python3.8/site-packages/pm4py/objects/log/util/dataframe_utils.py:176: UserWarning: Could not infer format, so each element will be parsed individually, falling back to `dateutil`. To ensure parsing is consistent and as-expected, please specify a format.\n",
      "  df[col] = pd.to_datetime(df[col], utc=True)\n",
      "/home/nawras/.local/lib/python3.8/site-packages/pm4py/objects/log/util/dataframe_utils.py:176: UserWarning: Could not infer format, so each element will be parsed individually, falling back to `dateutil`. To ensure parsing is consistent and as-expected, please specify a format.\n",
      "  df[col] = pd.to_datetime(df[col], utc=True)\n",
      "parsing log, completed traces :: 100%|███████████████████████████████████████████████████| 5/5 [00:00<00:00, 321.58it/s]\n",
      "/home/nawras/.local/lib/python3.8/site-packages/pm4py/objects/log/util/dataframe_utils.py:176: UserWarning: Could not infer format, so each element will be parsed individually, falling back to `dateutil`. To ensure parsing is consistent and as-expected, please specify a format.\n",
      "  df[col] = pd.to_datetime(df[col], utc=True)\n",
      "/home/nawras/.local/lib/python3.8/site-packages/pm4py/objects/log/util/dataframe_utils.py:176: UserWarning: Could not infer format, so each element will be parsed individually, falling back to `dateutil`. To ensure parsing is consistent and as-expected, please specify a format.\n",
      "  df[col] = pd.to_datetime(df[col], utc=True)\n",
      "replaying log with TBR, completed variants :: 100%|███████████████████████████████████████| 5/5 [00:00<00:00, 98.38it/s]\n"
     ]
    },
    {
     "name": "stdout",
     "output_type": "stream",
     "text": [
      "heuristics_token_replay TrainConnector: rss TestConnector: PowerBI Fitness: 0.85\n"
     ]
    },
    {
     "name": "stderr",
     "output_type": "stream",
     "text": [
      "aligning log, completed variants :: 100%|█████████████████████████████████████████████████| 5/5 [00:00<00:00, 18.15it/s]\n"
     ]
    },
    {
     "name": "stdout",
     "output_type": "stream",
     "text": [
      "heuristics_alignment TrainConnector: rss TestConnector: PowerBI Fitness: 0.8988383525302618\n"
     ]
    },
    {
     "name": "stderr",
     "output_type": "stream",
     "text": [
      "replaying log with TBR, completed variants :: 100%|███████████████████████████████████████| 5/5 [00:00<00:00, 14.69it/s]\n"
     ]
    },
    {
     "name": "stdout",
     "output_type": "stream",
     "text": [
      "inductive_token_replay TrainConnector: rss TestConnector: PowerBI Fitness: 0.8972315405675001\n"
     ]
    },
    {
     "name": "stderr",
     "output_type": "stream",
     "text": [
      "parsing log, completed traces :: 100%|███████████████████████████████████████████████████| 4/4 [00:00<00:00, 282.60it/s]\n",
      "/home/nawras/.local/lib/python3.8/site-packages/pm4py/objects/log/util/dataframe_utils.py:176: UserWarning: Could not infer format, so each element will be parsed individually, falling back to `dateutil`. To ensure parsing is consistent and as-expected, please specify a format.\n",
      "  df[col] = pd.to_datetime(df[col], utc=True)\n",
      "/home/nawras/.local/lib/python3.8/site-packages/pm4py/objects/log/util/dataframe_utils.py:176: UserWarning: Could not infer format, so each element will be parsed individually, falling back to `dateutil`. To ensure parsing is consistent and as-expected, please specify a format.\n",
      "  df[col] = pd.to_datetime(df[col], utc=True)\n",
      "replaying log with TBR, completed variants :: 100%|███████████████████████████████████████| 4/4 [00:00<00:00, 97.06it/s]\n"
     ]
    },
    {
     "name": "stdout",
     "output_type": "stream",
     "text": [
      "heuristics_token_replay TrainConnector: rss TestConnector: rss Fitness: 0.6875\n"
     ]
    },
    {
     "name": "stderr",
     "output_type": "stream",
     "text": [
      "aligning log, completed variants :: 100%|█████████████████████████████████████████████████| 4/4 [00:00<00:00, 16.50it/s]\n"
     ]
    },
    {
     "name": "stdout",
     "output_type": "stream",
     "text": [
      "heuristics_alignment TrainConnector: rss TestConnector: rss Fitness: 0.9233752620545074\n"
     ]
    },
    {
     "name": "stderr",
     "output_type": "stream",
     "text": [
      "replaying log with TBR, completed variants :: 100%|███████████████████████████████████████| 4/4 [00:00<00:00, 26.14it/s]\n"
     ]
    },
    {
     "name": "stdout",
     "output_type": "stream",
     "text": [
      "inductive_token_replay TrainConnector: rss TestConnector: rss Fitness: 0.9456757370703598\n"
     ]
    },
    {
     "name": "stderr",
     "output_type": "stream",
     "text": [
      "parsing log, completed traces :: 100%|███████████████████████████████████████████████████| 5/5 [00:00<00:00, 284.83it/s]\n",
      "/home/nawras/.local/lib/python3.8/site-packages/pm4py/objects/log/util/dataframe_utils.py:176: UserWarning: Could not infer format, so each element will be parsed individually, falling back to `dateutil`. To ensure parsing is consistent and as-expected, please specify a format.\n",
      "  df[col] = pd.to_datetime(df[col], utc=True)\n",
      "/home/nawras/.local/lib/python3.8/site-packages/pm4py/objects/log/util/dataframe_utils.py:176: UserWarning: Could not infer format, so each element will be parsed individually, falling back to `dateutil`. To ensure parsing is consistent and as-expected, please specify a format.\n",
      "  df[col] = pd.to_datetime(df[col], utc=True)\n",
      "replaying log with TBR, completed variants :: 100%|██████████████████████████████████████| 5/5 [00:00<00:00, 125.83it/s]\n"
     ]
    },
    {
     "name": "stdout",
     "output_type": "stream",
     "text": [
      "heuristics_token_replay TrainConnector: rss TestConnector: sendMail Fitness: 0.85\n"
     ]
    },
    {
     "name": "stderr",
     "output_type": "stream",
     "text": [
      "aligning log, completed variants :: 100%|█████████████████████████████████████████████████| 5/5 [00:00<00:00, 20.86it/s]\n"
     ]
    },
    {
     "name": "stdout",
     "output_type": "stream",
     "text": [
      "heuristics_alignment TrainConnector: rss TestConnector: sendMail Fitness: 0.8333567073170732\n"
     ]
    },
    {
     "name": "stderr",
     "output_type": "stream",
     "text": [
      "replaying log with TBR, completed variants :: 100%|███████████████████████████████████████| 5/5 [00:00<00:00, 17.87it/s]\n"
     ]
    },
    {
     "name": "stdout",
     "output_type": "stream",
     "text": [
      "inductive_token_replay TrainConnector: rss TestConnector: sendMail Fitness: 0.9244350356675948\n"
     ]
    },
    {
     "name": "stderr",
     "output_type": "stream",
     "text": [
      "parsing log, completed traces :: 100%|███████████████████████████████████████████████████| 4/4 [00:00<00:00, 243.59it/s]\n",
      "/home/nawras/.local/lib/python3.8/site-packages/pm4py/objects/log/util/dataframe_utils.py:176: UserWarning: Could not infer format, so each element will be parsed individually, falling back to `dateutil`. To ensure parsing is consistent and as-expected, please specify a format.\n",
      "  df[col] = pd.to_datetime(df[col], utc=True)\n",
      "/home/nawras/.local/lib/python3.8/site-packages/pm4py/objects/log/util/dataframe_utils.py:176: UserWarning: Could not infer format, so each element will be parsed individually, falling back to `dateutil`. To ensure parsing is consistent and as-expected, please specify a format.\n",
      "  df[col] = pd.to_datetime(df[col], utc=True)\n",
      "replaying log with TBR, completed variants :: 100%|███████████████████████████████████████| 4/4 [00:00<00:00, 90.48it/s]\n"
     ]
    },
    {
     "name": "stdout",
     "output_type": "stream",
     "text": [
      "heuristics_token_replay TrainConnector: rss TestConnector: SQL Fitness: 0.75\n"
     ]
    },
    {
     "name": "stderr",
     "output_type": "stream",
     "text": [
      "aligning log, completed variants :: 100%|█████████████████████████████████████████████████| 4/4 [00:00<00:00, 15.75it/s]\n"
     ]
    },
    {
     "name": "stdout",
     "output_type": "stream",
     "text": [
      "heuristics_alignment TrainConnector: rss TestConnector: SQL Fitness: 0.817504892027733\n"
     ]
    },
    {
     "name": "stderr",
     "output_type": "stream",
     "text": [
      "replaying log with TBR, completed variants :: 100%|███████████████████████████████████████| 4/4 [00:00<00:00, 11.17it/s]\n"
     ]
    },
    {
     "name": "stdout",
     "output_type": "stream",
     "text": [
      "inductive_token_replay TrainConnector: rss TestConnector: SQL Fitness: 0.8593452961709964\n"
     ]
    },
    {
     "name": "stderr",
     "output_type": "stream",
     "text": [
      "parsing log, completed traces :: 100%|███████████████████████████████████████████████████| 3/3 [00:00<00:00, 434.10it/s]\n",
      "/home/nawras/.local/lib/python3.8/site-packages/pm4py/objects/log/util/dataframe_utils.py:176: UserWarning: Could not infer format, so each element will be parsed individually, falling back to `dateutil`. To ensure parsing is consistent and as-expected, please specify a format.\n",
      "  df[col] = pd.to_datetime(df[col], utc=True)\n",
      "/home/nawras/.local/lib/python3.8/site-packages/pm4py/objects/log/util/dataframe_utils.py:176: UserWarning: Could not infer format, so each element will be parsed individually, falling back to `dateutil`. To ensure parsing is consistent and as-expected, please specify a format.\n",
      "  df[col] = pd.to_datetime(df[col], utc=True)\n",
      "replaying log with TBR, completed variants :: 100%|██████████████████████████████████████| 3/3 [00:00<00:00, 151.94it/s]\n"
     ]
    },
    {
     "name": "stdout",
     "output_type": "stream",
     "text": [
      "heuristics_token_replay TrainConnector: rss TestConnector: teams Fitness: 0.9166666666666666\n"
     ]
    },
    {
     "name": "stderr",
     "output_type": "stream",
     "text": [
      "aligning log, completed variants :: 100%|█████████████████████████████████████████████████| 3/3 [00:00<00:00, 32.74it/s]\n"
     ]
    },
    {
     "name": "stdout",
     "output_type": "stream",
     "text": [
      "heuristics_alignment TrainConnector: rss TestConnector: teams Fitness: 0.9692470837751855\n"
     ]
    },
    {
     "name": "stderr",
     "output_type": "stream",
     "text": [
      "replaying log with TBR, completed variants :: 100%|███████████████████████████████████████| 3/3 [00:00<00:00, 20.32it/s]\n"
     ]
    },
    {
     "name": "stdout",
     "output_type": "stream",
     "text": [
      "inductive_token_replay TrainConnector: rss TestConnector: teams Fitness: 0.9156831524335077\n"
     ]
    },
    {
     "name": "stderr",
     "output_type": "stream",
     "text": [
      "parsing log, completed traces :: 100%|█████████████████████████████████████████████████| 10/10 [00:00<00:00, 422.60it/s]\n",
      "/home/nawras/.local/lib/python3.8/site-packages/pm4py/objects/log/util/dataframe_utils.py:176: UserWarning: Could not infer format, so each element will be parsed individually, falling back to `dateutil`. To ensure parsing is consistent and as-expected, please specify a format.\n",
      "  df[col] = pd.to_datetime(df[col], utc=True)\n",
      "/home/nawras/.local/lib/python3.8/site-packages/pm4py/objects/log/util/dataframe_utils.py:176: UserWarning: Could not infer format, so each element will be parsed individually, falling back to `dateutil`. To ensure parsing is consistent and as-expected, please specify a format.\n",
      "  df[col] = pd.to_datetime(df[col], utc=True)\n",
      "parsing log, completed traces :: 100%|███████████████████████████████████████████████████| 5/5 [00:00<00:00, 313.92it/s]\n",
      "/home/nawras/.local/lib/python3.8/site-packages/pm4py/objects/log/util/dataframe_utils.py:176: UserWarning: Could not infer format, so each element will be parsed individually, falling back to `dateutil`. To ensure parsing is consistent and as-expected, please specify a format.\n",
      "  df[col] = pd.to_datetime(df[col], utc=True)\n",
      "/home/nawras/.local/lib/python3.8/site-packages/pm4py/objects/log/util/dataframe_utils.py:176: UserWarning: Could not infer format, so each element will be parsed individually, falling back to `dateutil`. To ensure parsing is consistent and as-expected, please specify a format.\n",
      "  df[col] = pd.to_datetime(df[col], utc=True)\n",
      "replaying log with TBR, completed variants :: 100%|██████████████████████████████████████| 5/5 [00:00<00:00, 101.26it/s]\n"
     ]
    },
    {
     "name": "stdout",
     "output_type": "stream",
     "text": [
      "heuristics_token_replay TrainConnector: sendMail TestConnector: PowerBI Fitness: 1.0\n"
     ]
    },
    {
     "name": "stderr",
     "output_type": "stream",
     "text": [
      "aligning log, completed variants :: 100%|█████████████████████████████████████████████████| 5/5 [00:00<00:00, 13.51it/s]\n"
     ]
    },
    {
     "name": "stdout",
     "output_type": "stream",
     "text": [
      "heuristics_alignment TrainConnector: sendMail TestConnector: PowerBI Fitness: 0.8611325521249933\n"
     ]
    },
    {
     "name": "stderr",
     "output_type": "stream",
     "text": [
      "replaying log with TBR, completed variants :: 100%|███████████████████████████████████████| 5/5 [00:00<00:00, 29.83it/s]\n"
     ]
    },
    {
     "name": "stdout",
     "output_type": "stream",
     "text": [
      "inductive_token_replay TrainConnector: sendMail TestConnector: PowerBI Fitness: 0.9756808466654798\n"
     ]
    },
    {
     "name": "stderr",
     "output_type": "stream",
     "text": [
      "parsing log, completed traces :: 100%|███████████████████████████████████████████████████| 4/4 [00:00<00:00, 273.90it/s]\n",
      "/home/nawras/.local/lib/python3.8/site-packages/pm4py/objects/log/util/dataframe_utils.py:176: UserWarning: Could not infer format, so each element will be parsed individually, falling back to `dateutil`. To ensure parsing is consistent and as-expected, please specify a format.\n",
      "  df[col] = pd.to_datetime(df[col], utc=True)\n",
      "/home/nawras/.local/lib/python3.8/site-packages/pm4py/objects/log/util/dataframe_utils.py:176: UserWarning: Could not infer format, so each element will be parsed individually, falling back to `dateutil`. To ensure parsing is consistent and as-expected, please specify a format.\n",
      "  df[col] = pd.to_datetime(df[col], utc=True)\n",
      "replaying log with TBR, completed variants :: 100%|███████████████████████████████████████| 4/4 [00:00<00:00, 90.78it/s]\n"
     ]
    },
    {
     "name": "stdout",
     "output_type": "stream",
     "text": [
      "heuristics_token_replay TrainConnector: sendMail TestConnector: rss Fitness: 0.875\n"
     ]
    },
    {
     "name": "stderr",
     "output_type": "stream",
     "text": [
      "aligning log, completed variants :: 100%|█████████████████████████████████████████████████| 4/4 [00:00<00:00, 13.14it/s]\n"
     ]
    },
    {
     "name": "stdout",
     "output_type": "stream",
     "text": [
      "heuristics_alignment TrainConnector: sendMail TestConnector: rss Fitness: 0.8892295597484277\n"
     ]
    },
    {
     "name": "stderr",
     "output_type": "stream",
     "text": [
      "replaying log with TBR, completed variants :: 100%|███████████████████████████████████████| 4/4 [00:00<00:00, 17.13it/s]\n"
     ]
    },
    {
     "name": "stdout",
     "output_type": "stream",
     "text": [
      "inductive_token_replay TrainConnector: sendMail TestConnector: rss Fitness: 0.9715458795277875\n"
     ]
    },
    {
     "name": "stderr",
     "output_type": "stream",
     "text": [
      "parsing log, completed traces :: 100%|███████████████████████████████████████████████████| 5/5 [00:00<00:00, 315.35it/s]\n",
      "/home/nawras/.local/lib/python3.8/site-packages/pm4py/objects/log/util/dataframe_utils.py:176: UserWarning: Could not infer format, so each element will be parsed individually, falling back to `dateutil`. To ensure parsing is consistent and as-expected, please specify a format.\n",
      "  df[col] = pd.to_datetime(df[col], utc=True)\n",
      "/home/nawras/.local/lib/python3.8/site-packages/pm4py/objects/log/util/dataframe_utils.py:176: UserWarning: Could not infer format, so each element will be parsed individually, falling back to `dateutil`. To ensure parsing is consistent and as-expected, please specify a format.\n",
      "  df[col] = pd.to_datetime(df[col], utc=True)\n",
      "replaying log with TBR, completed variants :: 100%|███████████████████████████████████████| 5/5 [00:00<00:00, 96.37it/s]\n"
     ]
    },
    {
     "name": "stdout",
     "output_type": "stream",
     "text": [
      "heuristics_token_replay TrainConnector: sendMail TestConnector: sendMail Fitness: 1.0\n"
     ]
    },
    {
     "name": "stderr",
     "output_type": "stream",
     "text": [
      "aligning log, completed variants :: 100%|█████████████████████████████████████████████████| 5/5 [00:00<00:00, 15.93it/s]\n"
     ]
    },
    {
     "name": "stdout",
     "output_type": "stream",
     "text": [
      "heuristics_alignment TrainConnector: sendMail TestConnector: sendMail Fitness: 0.9582378048780488\n"
     ]
    },
    {
     "name": "stderr",
     "output_type": "stream",
     "text": [
      "replaying log with TBR, completed variants :: 100%|███████████████████████████████████████| 5/5 [00:00<00:00, 30.77it/s]\n"
     ]
    },
    {
     "name": "stdout",
     "output_type": "stream",
     "text": [
      "inductive_token_replay TrainConnector: sendMail TestConnector: sendMail Fitness: 0.986856264256198\n"
     ]
    },
    {
     "name": "stderr",
     "output_type": "stream",
     "text": [
      "parsing log, completed traces :: 100%|███████████████████████████████████████████████████| 4/4 [00:00<00:00, 267.83it/s]\n",
      "/home/nawras/.local/lib/python3.8/site-packages/pm4py/objects/log/util/dataframe_utils.py:176: UserWarning: Could not infer format, so each element will be parsed individually, falling back to `dateutil`. To ensure parsing is consistent and as-expected, please specify a format.\n",
      "  df[col] = pd.to_datetime(df[col], utc=True)\n",
      "/home/nawras/.local/lib/python3.8/site-packages/pm4py/objects/log/util/dataframe_utils.py:176: UserWarning: Could not infer format, so each element will be parsed individually, falling back to `dateutil`. To ensure parsing is consistent and as-expected, please specify a format.\n",
      "  df[col] = pd.to_datetime(df[col], utc=True)\n",
      "replaying log with TBR, completed variants :: 100%|███████████████████████████████████████| 4/4 [00:00<00:00, 92.00it/s]\n"
     ]
    },
    {
     "name": "stdout",
     "output_type": "stream",
     "text": [
      "heuristics_token_replay TrainConnector: sendMail TestConnector: SQL Fitness: 0.8125\n"
     ]
    },
    {
     "name": "stderr",
     "output_type": "stream",
     "text": [
      "aligning log, completed variants :: 100%|█████████████████████████████████████████████████| 4/4 [00:00<00:00, 17.22it/s]\n"
     ]
    },
    {
     "name": "stdout",
     "output_type": "stream",
     "text": [
      "heuristics_alignment TrainConnector: sendMail TestConnector: SQL Fitness: 0.7892458579176351\n"
     ]
    },
    {
     "name": "stderr",
     "output_type": "stream",
     "text": [
      "replaying log with TBR, completed variants :: 100%|███████████████████████████████████████| 4/4 [00:00<00:00, 15.94it/s]\n"
     ]
    },
    {
     "name": "stdout",
     "output_type": "stream",
     "text": [
      "inductive_token_replay TrainConnector: sendMail TestConnector: SQL Fitness: 0.9603285793997394\n"
     ]
    },
    {
     "name": "stderr",
     "output_type": "stream",
     "text": [
      "parsing log, completed traces :: 100%|███████████████████████████████████████████████████| 3/3 [00:00<00:00, 328.10it/s]\n",
      "/home/nawras/.local/lib/python3.8/site-packages/pm4py/objects/log/util/dataframe_utils.py:176: UserWarning: Could not infer format, so each element will be parsed individually, falling back to `dateutil`. To ensure parsing is consistent and as-expected, please specify a format.\n",
      "  df[col] = pd.to_datetime(df[col], utc=True)\n",
      "/home/nawras/.local/lib/python3.8/site-packages/pm4py/objects/log/util/dataframe_utils.py:176: UserWarning: Could not infer format, so each element will be parsed individually, falling back to `dateutil`. To ensure parsing is consistent and as-expected, please specify a format.\n",
      "  df[col] = pd.to_datetime(df[col], utc=True)\n",
      "replaying log with TBR, completed variants :: 100%|██████████████████████████████████████| 3/3 [00:00<00:00, 147.17it/s]\n"
     ]
    },
    {
     "name": "stdout",
     "output_type": "stream",
     "text": [
      "heuristics_token_replay TrainConnector: sendMail TestConnector: teams Fitness: 0.9166666666666666\n"
     ]
    },
    {
     "name": "stderr",
     "output_type": "stream",
     "text": [
      "aligning log, completed variants :: 100%|█████████████████████████████████████████████████| 3/3 [00:00<00:00, 32.05it/s]\n"
     ]
    },
    {
     "name": "stdout",
     "output_type": "stream",
     "text": [
      "heuristics_alignment TrainConnector: sendMail TestConnector: teams Fitness: 0.9420289855072465\n"
     ]
    },
    {
     "name": "stderr",
     "output_type": "stream",
     "text": [
      "replaying log with TBR, completed variants :: 100%|███████████████████████████████████████| 3/3 [00:00<00:00, 12.42it/s]\n"
     ]
    },
    {
     "name": "stdout",
     "output_type": "stream",
     "text": [
      "inductive_token_replay TrainConnector: sendMail TestConnector: teams Fitness: 0.9397282783915107\n"
     ]
    },
    {
     "name": "stderr",
     "output_type": "stream",
     "text": [
      "parsing log, completed traces :: 100%|███████████████████████████████████████████████████| 8/8 [00:00<00:00, 346.60it/s]\n",
      "/home/nawras/.local/lib/python3.8/site-packages/pm4py/objects/log/util/dataframe_utils.py:176: UserWarning: Could not infer format, so each element will be parsed individually, falling back to `dateutil`. To ensure parsing is consistent and as-expected, please specify a format.\n",
      "  df[col] = pd.to_datetime(df[col], utc=True)\n",
      "/home/nawras/.local/lib/python3.8/site-packages/pm4py/objects/log/util/dataframe_utils.py:176: UserWarning: Could not infer format, so each element will be parsed individually, falling back to `dateutil`. To ensure parsing is consistent and as-expected, please specify a format.\n",
      "  df[col] = pd.to_datetime(df[col], utc=True)\n",
      "parsing log, completed traces :: 100%|███████████████████████████████████████████████████| 5/5 [00:00<00:00, 345.80it/s]\n",
      "/home/nawras/.local/lib/python3.8/site-packages/pm4py/objects/log/util/dataframe_utils.py:176: UserWarning: Could not infer format, so each element will be parsed individually, falling back to `dateutil`. To ensure parsing is consistent and as-expected, please specify a format.\n",
      "  df[col] = pd.to_datetime(df[col], utc=True)\n",
      "/home/nawras/.local/lib/python3.8/site-packages/pm4py/objects/log/util/dataframe_utils.py:176: UserWarning: Could not infer format, so each element will be parsed individually, falling back to `dateutil`. To ensure parsing is consistent and as-expected, please specify a format.\n",
      "  df[col] = pd.to_datetime(df[col], utc=True)\n",
      "replaying log with TBR, completed variants :: 100%|███████████████████████████████████████| 5/5 [00:00<00:00, 89.46it/s]\n"
     ]
    },
    {
     "name": "stdout",
     "output_type": "stream",
     "text": [
      "heuristics_token_replay TrainConnector: SQL TestConnector: PowerBI Fitness: 0.8\n"
     ]
    },
    {
     "name": "stderr",
     "output_type": "stream",
     "text": [
      "aligning log, completed variants :: 100%|█████████████████████████████████████████████████| 5/5 [00:00<00:00, 18.17it/s]\n"
     ]
    },
    {
     "name": "stdout",
     "output_type": "stream",
     "text": [
      "heuristics_alignment TrainConnector: SQL TestConnector: PowerBI Fitness: 0.4880595771343252\n"
     ]
    },
    {
     "name": "stderr",
     "output_type": "stream",
     "text": [
      "replaying log with TBR, completed variants :: 100%|███████████████████████████████████████| 5/5 [00:00<00:00, 19.79it/s]\n"
     ]
    },
    {
     "name": "stdout",
     "output_type": "stream",
     "text": [
      "inductive_token_replay TrainConnector: SQL TestConnector: PowerBI Fitness: 0.877551974958363\n"
     ]
    },
    {
     "name": "stderr",
     "output_type": "stream",
     "text": [
      "parsing log, completed traces :: 100%|███████████████████████████████████████████████████| 4/4 [00:00<00:00, 279.94it/s]\n",
      "/home/nawras/.local/lib/python3.8/site-packages/pm4py/objects/log/util/dataframe_utils.py:176: UserWarning: Could not infer format, so each element will be parsed individually, falling back to `dateutil`. To ensure parsing is consistent and as-expected, please specify a format.\n",
      "  df[col] = pd.to_datetime(df[col], utc=True)\n",
      "/home/nawras/.local/lib/python3.8/site-packages/pm4py/objects/log/util/dataframe_utils.py:176: UserWarning: Could not infer format, so each element will be parsed individually, falling back to `dateutil`. To ensure parsing is consistent and as-expected, please specify a format.\n",
      "  df[col] = pd.to_datetime(df[col], utc=True)\n",
      "replaying log with TBR, completed variants :: 100%|███████████████████████████████████████| 4/4 [00:00<00:00, 84.17it/s]\n"
     ]
    },
    {
     "name": "stdout",
     "output_type": "stream",
     "text": [
      "heuristics_token_replay TrainConnector: SQL TestConnector: rss Fitness: 0.5625\n"
     ]
    },
    {
     "name": "stderr",
     "output_type": "stream",
     "text": [
      "aligning log, completed variants :: 100%|█████████████████████████████████████████████████| 4/4 [00:00<00:00, 17.36it/s]\n"
     ]
    },
    {
     "name": "stdout",
     "output_type": "stream",
     "text": [
      "heuristics_alignment TrainConnector: SQL TestConnector: rss Fitness: 0.48807651991614254\n"
     ]
    },
    {
     "name": "stderr",
     "output_type": "stream",
     "text": [
      "replaying log with TBR, completed variants :: 100%|███████████████████████████████████████| 4/4 [00:00<00:00, 21.06it/s]\n"
     ]
    },
    {
     "name": "stdout",
     "output_type": "stream",
     "text": [
      "inductive_token_replay TrainConnector: SQL TestConnector: rss Fitness: 0.9018665700963171\n"
     ]
    },
    {
     "name": "stderr",
     "output_type": "stream",
     "text": [
      "parsing log, completed traces :: 100%|███████████████████████████████████████████████████| 5/5 [00:00<00:00, 382.40it/s]\n",
      "/home/nawras/.local/lib/python3.8/site-packages/pm4py/objects/log/util/dataframe_utils.py:176: UserWarning: Could not infer format, so each element will be parsed individually, falling back to `dateutil`. To ensure parsing is consistent and as-expected, please specify a format.\n",
      "  df[col] = pd.to_datetime(df[col], utc=True)\n",
      "/home/nawras/.local/lib/python3.8/site-packages/pm4py/objects/log/util/dataframe_utils.py:176: UserWarning: Could not infer format, so each element will be parsed individually, falling back to `dateutil`. To ensure parsing is consistent and as-expected, please specify a format.\n",
      "  df[col] = pd.to_datetime(df[col], utc=True)\n",
      "replaying log with TBR, completed variants :: 100%|██████████████████████████████████████| 5/5 [00:00<00:00, 115.47it/s]\n"
     ]
    },
    {
     "name": "stdout",
     "output_type": "stream",
     "text": [
      "heuristics_token_replay TrainConnector: SQL TestConnector: sendMail Fitness: 0.75\n"
     ]
    },
    {
     "name": "stderr",
     "output_type": "stream",
     "text": [
      "aligning log, completed variants :: 100%|█████████████████████████████████████████████████| 5/5 [00:00<00:00, 19.59it/s]\n"
     ]
    },
    {
     "name": "stdout",
     "output_type": "stream",
     "text": [
      "heuristics_alignment TrainConnector: SQL TestConnector: sendMail Fitness: 0.5133545296167248\n"
     ]
    },
    {
     "name": "stderr",
     "output_type": "stream",
     "text": [
      "replaying log with TBR, completed variants :: 100%|███████████████████████████████████████| 5/5 [00:00<00:00, 19.28it/s]\n"
     ]
    },
    {
     "name": "stdout",
     "output_type": "stream",
     "text": [
      "inductive_token_replay TrainConnector: SQL TestConnector: sendMail Fitness: 0.929268259184021\n"
     ]
    },
    {
     "name": "stderr",
     "output_type": "stream",
     "text": [
      "parsing log, completed traces :: 100%|███████████████████████████████████████████████████| 4/4 [00:00<00:00, 262.43it/s]\n",
      "/home/nawras/.local/lib/python3.8/site-packages/pm4py/objects/log/util/dataframe_utils.py:176: UserWarning: Could not infer format, so each element will be parsed individually, falling back to `dateutil`. To ensure parsing is consistent and as-expected, please specify a format.\n",
      "  df[col] = pd.to_datetime(df[col], utc=True)\n",
      "/home/nawras/.local/lib/python3.8/site-packages/pm4py/objects/log/util/dataframe_utils.py:176: UserWarning: Could not infer format, so each element will be parsed individually, falling back to `dateutil`. To ensure parsing is consistent and as-expected, please specify a format.\n",
      "  df[col] = pd.to_datetime(df[col], utc=True)\n",
      "replaying log with TBR, completed variants :: 100%|███████████████████████████████████████| 4/4 [00:00<00:00, 80.81it/s]\n"
     ]
    },
    {
     "name": "stdout",
     "output_type": "stream",
     "text": [
      "heuristics_token_replay TrainConnector: SQL TestConnector: SQL Fitness: 0.75\n"
     ]
    },
    {
     "name": "stderr",
     "output_type": "stream",
     "text": [
      "aligning log, completed variants :: 100%|█████████████████████████████████████████████████| 4/4 [00:00<00:00, 15.22it/s]\n"
     ]
    },
    {
     "name": "stdout",
     "output_type": "stream",
     "text": [
      "heuristics_alignment TrainConnector: SQL TestConnector: SQL Fitness: 0.6168623477759898\n"
     ]
    },
    {
     "name": "stderr",
     "output_type": "stream",
     "text": [
      "replaying log with TBR, completed variants :: 100%|███████████████████████████████████████| 4/4 [00:00<00:00,  9.10it/s]\n"
     ]
    },
    {
     "name": "stdout",
     "output_type": "stream",
     "text": [
      "inductive_token_replay TrainConnector: SQL TestConnector: SQL Fitness: 0.9261082411453576\n"
     ]
    },
    {
     "name": "stderr",
     "output_type": "stream",
     "text": [
      "parsing log, completed traces :: 100%|███████████████████████████████████████████████████| 3/3 [00:00<00:00, 375.34it/s]\n",
      "/home/nawras/.local/lib/python3.8/site-packages/pm4py/objects/log/util/dataframe_utils.py:176: UserWarning: Could not infer format, so each element will be parsed individually, falling back to `dateutil`. To ensure parsing is consistent and as-expected, please specify a format.\n",
      "  df[col] = pd.to_datetime(df[col], utc=True)\n",
      "/home/nawras/.local/lib/python3.8/site-packages/pm4py/objects/log/util/dataframe_utils.py:176: UserWarning: Could not infer format, so each element will be parsed individually, falling back to `dateutil`. To ensure parsing is consistent and as-expected, please specify a format.\n",
      "  df[col] = pd.to_datetime(df[col], utc=True)\n",
      "replaying log with TBR, completed variants :: 100%|██████████████████████████████████████| 3/3 [00:00<00:00, 119.38it/s]\n"
     ]
    },
    {
     "name": "stdout",
     "output_type": "stream",
     "text": [
      "heuristics_token_replay TrainConnector: SQL TestConnector: teams Fitness: 0.75\n"
     ]
    },
    {
     "name": "stderr",
     "output_type": "stream",
     "text": [
      "aligning log, completed variants :: 100%|█████████████████████████████████████████████████| 3/3 [00:00<00:00, 18.33it/s]\n"
     ]
    },
    {
     "name": "stdout",
     "output_type": "stream",
     "text": [
      "heuristics_alignment TrainConnector: SQL TestConnector: teams Fitness: 0.6677742429598208\n"
     ]
    },
    {
     "name": "stderr",
     "output_type": "stream",
     "text": [
      "replaying log with TBR, completed variants :: 100%|███████████████████████████████████████| 3/3 [00:00<00:00, 21.09it/s]\n"
     ]
    },
    {
     "name": "stdout",
     "output_type": "stream",
     "text": [
      "inductive_token_replay TrainConnector: SQL TestConnector: teams Fitness: 0.9074522181363255\n"
     ]
    },
    {
     "name": "stderr",
     "output_type": "stream",
     "text": [
      "parsing log, completed traces :: 100%|███████████████████████████████████████████████████| 6/6 [00:00<00:00, 464.97it/s]\n",
      "/home/nawras/.local/lib/python3.8/site-packages/pm4py/objects/log/util/dataframe_utils.py:176: UserWarning: Could not infer format, so each element will be parsed individually, falling back to `dateutil`. To ensure parsing is consistent and as-expected, please specify a format.\n",
      "  df[col] = pd.to_datetime(df[col], utc=True)\n",
      "/home/nawras/.local/lib/python3.8/site-packages/pm4py/objects/log/util/dataframe_utils.py:176: UserWarning: Could not infer format, so each element will be parsed individually, falling back to `dateutil`. To ensure parsing is consistent and as-expected, please specify a format.\n",
      "  df[col] = pd.to_datetime(df[col], utc=True)\n",
      "parsing log, completed traces :: 100%|███████████████████████████████████████████████████| 5/5 [00:00<00:00, 331.75it/s]\n",
      "/home/nawras/.local/lib/python3.8/site-packages/pm4py/objects/log/util/dataframe_utils.py:176: UserWarning: Could not infer format, so each element will be parsed individually, falling back to `dateutil`. To ensure parsing is consistent and as-expected, please specify a format.\n",
      "  df[col] = pd.to_datetime(df[col], utc=True)\n",
      "/home/nawras/.local/lib/python3.8/site-packages/pm4py/objects/log/util/dataframe_utils.py:176: UserWarning: Could not infer format, so each element will be parsed individually, falling back to `dateutil`. To ensure parsing is consistent and as-expected, please specify a format.\n",
      "  df[col] = pd.to_datetime(df[col], utc=True)\n",
      "replaying log with TBR, completed variants :: 100%|██████████████████████████████████████| 5/5 [00:00<00:00, 117.27it/s]\n"
     ]
    },
    {
     "name": "stdout",
     "output_type": "stream",
     "text": [
      "heuristics_token_replay TrainConnector: teams TestConnector: PowerBI Fitness: 0.95\n"
     ]
    },
    {
     "name": "stderr",
     "output_type": "stream",
     "text": [
      "aligning log, completed variants :: 100%|█████████████████████████████████████████████████| 5/5 [00:00<00:00, 14.92it/s]\n"
     ]
    },
    {
     "name": "stdout",
     "output_type": "stream",
     "text": [
      "heuristics_alignment TrainConnector: teams TestConnector: PowerBI Fitness: 0.7488976763717805\n"
     ]
    },
    {
     "name": "stderr",
     "output_type": "stream",
     "text": [
      "replaying log with TBR, completed variants :: 100%|███████████████████████████████████████| 5/5 [00:00<00:00, 43.85it/s]\n"
     ]
    },
    {
     "name": "stdout",
     "output_type": "stream",
     "text": [
      "inductive_token_replay TrainConnector: teams TestConnector: PowerBI Fitness: 0.9068556669716162\n"
     ]
    },
    {
     "name": "stderr",
     "output_type": "stream",
     "text": [
      "parsing log, completed traces :: 100%|███████████████████████████████████████████████████| 4/4 [00:00<00:00, 218.72it/s]\n",
      "/home/nawras/.local/lib/python3.8/site-packages/pm4py/objects/log/util/dataframe_utils.py:176: UserWarning: Could not infer format, so each element will be parsed individually, falling back to `dateutil`. To ensure parsing is consistent and as-expected, please specify a format.\n",
      "  df[col] = pd.to_datetime(df[col], utc=True)\n",
      "/home/nawras/.local/lib/python3.8/site-packages/pm4py/objects/log/util/dataframe_utils.py:176: UserWarning: Could not infer format, so each element will be parsed individually, falling back to `dateutil`. To ensure parsing is consistent and as-expected, please specify a format.\n",
      "  df[col] = pd.to_datetime(df[col], utc=True)\n",
      "replaying log with TBR, completed variants :: 100%|██████████████████████████████████████| 4/4 [00:00<00:00, 106.37it/s]\n"
     ]
    },
    {
     "name": "stdout",
     "output_type": "stream",
     "text": [
      "heuristics_token_replay TrainConnector: teams TestConnector: rss Fitness: 0.875\n"
     ]
    },
    {
     "name": "stderr",
     "output_type": "stream",
     "text": [
      "aligning log, completed variants :: 100%|█████████████████████████████████████████████████| 4/4 [00:00<00:00, 20.62it/s]\n"
     ]
    },
    {
     "name": "stdout",
     "output_type": "stream",
     "text": [
      "heuristics_alignment TrainConnector: teams TestConnector: rss Fitness: 0.8833857442348009\n"
     ]
    },
    {
     "name": "stderr",
     "output_type": "stream",
     "text": [
      "replaying log with TBR, completed variants :: 100%|███████████████████████████████████████| 4/4 [00:00<00:00, 28.41it/s]\n"
     ]
    },
    {
     "name": "stdout",
     "output_type": "stream",
     "text": [
      "inductive_token_replay TrainConnector: teams TestConnector: rss Fitness: 0.9291627809009787\n"
     ]
    },
    {
     "name": "stderr",
     "output_type": "stream",
     "text": [
      "parsing log, completed traces :: 100%|███████████████████████████████████████████████████| 5/5 [00:00<00:00, 394.15it/s]\n",
      "/home/nawras/.local/lib/python3.8/site-packages/pm4py/objects/log/util/dataframe_utils.py:176: UserWarning: Could not infer format, so each element will be parsed individually, falling back to `dateutil`. To ensure parsing is consistent and as-expected, please specify a format.\n",
      "  df[col] = pd.to_datetime(df[col], utc=True)\n",
      "/home/nawras/.local/lib/python3.8/site-packages/pm4py/objects/log/util/dataframe_utils.py:176: UserWarning: Could not infer format, so each element will be parsed individually, falling back to `dateutil`. To ensure parsing is consistent and as-expected, please specify a format.\n",
      "  df[col] = pd.to_datetime(df[col], utc=True)\n",
      "replaying log with TBR, completed variants :: 100%|██████████████████████████████████████| 5/5 [00:00<00:00, 135.42it/s]\n"
     ]
    },
    {
     "name": "stdout",
     "output_type": "stream",
     "text": [
      "heuristics_token_replay TrainConnector: teams TestConnector: sendMail Fitness: 1.0\n"
     ]
    },
    {
     "name": "stderr",
     "output_type": "stream",
     "text": [
      "aligning log, completed variants :: 100%|█████████████████████████████████████████████████| 5/5 [00:00<00:00, 29.80it/s]\n"
     ]
    },
    {
     "name": "stdout",
     "output_type": "stream",
     "text": [
      "heuristics_alignment TrainConnector: teams TestConnector: sendMail Fitness: 0.9523689024390244\n"
     ]
    },
    {
     "name": "stderr",
     "output_type": "stream",
     "text": [
      "replaying log with TBR, completed variants :: 100%|███████████████████████████████████████| 5/5 [00:00<00:00, 50.19it/s]\n"
     ]
    },
    {
     "name": "stdout",
     "output_type": "stream",
     "text": [
      "inductive_token_replay TrainConnector: teams TestConnector: sendMail Fitness: 0.9720349326048467\n"
     ]
    },
    {
     "name": "stderr",
     "output_type": "stream",
     "text": [
      "parsing log, completed traces :: 100%|███████████████████████████████████████████████████| 4/4 [00:00<00:00, 277.41it/s]\n",
      "/home/nawras/.local/lib/python3.8/site-packages/pm4py/objects/log/util/dataframe_utils.py:176: UserWarning: Could not infer format, so each element will be parsed individually, falling back to `dateutil`. To ensure parsing is consistent and as-expected, please specify a format.\n",
      "  df[col] = pd.to_datetime(df[col], utc=True)\n",
      "/home/nawras/.local/lib/python3.8/site-packages/pm4py/objects/log/util/dataframe_utils.py:176: UserWarning: Could not infer format, so each element will be parsed individually, falling back to `dateutil`. To ensure parsing is consistent and as-expected, please specify a format.\n",
      "  df[col] = pd.to_datetime(df[col], utc=True)\n",
      "replaying log with TBR, completed variants :: 100%|███████████████████████████████████████| 4/4 [00:00<00:00, 93.24it/s]\n"
     ]
    },
    {
     "name": "stdout",
     "output_type": "stream",
     "text": [
      "heuristics_token_replay TrainConnector: teams TestConnector: SQL Fitness: 0.8125\n"
     ]
    },
    {
     "name": "stderr",
     "output_type": "stream",
     "text": [
      "aligning log, completed variants :: 100%|█████████████████████████████████████████████████| 4/4 [00:00<00:00, 14.71it/s]\n"
     ]
    },
    {
     "name": "stdout",
     "output_type": "stream",
     "text": [
      "heuristics_alignment TrainConnector: teams TestConnector: SQL Fitness: 0.7084892822377178\n"
     ]
    },
    {
     "name": "stderr",
     "output_type": "stream",
     "text": [
      "replaying log with TBR, completed variants :: 100%|███████████████████████████████████████| 4/4 [00:00<00:00, 33.03it/s]\n"
     ]
    },
    {
     "name": "stdout",
     "output_type": "stream",
     "text": [
      "inductive_token_replay TrainConnector: teams TestConnector: SQL Fitness: 0.9190111141728683\n"
     ]
    },
    {
     "name": "stderr",
     "output_type": "stream",
     "text": [
      "parsing log, completed traces :: 100%|███████████████████████████████████████████████████| 3/3 [00:00<00:00, 301.43it/s]\n",
      "/home/nawras/.local/lib/python3.8/site-packages/pm4py/objects/log/util/dataframe_utils.py:176: UserWarning: Could not infer format, so each element will be parsed individually, falling back to `dateutil`. To ensure parsing is consistent and as-expected, please specify a format.\n",
      "  df[col] = pd.to_datetime(df[col], utc=True)\n",
      "/home/nawras/.local/lib/python3.8/site-packages/pm4py/objects/log/util/dataframe_utils.py:176: UserWarning: Could not infer format, so each element will be parsed individually, falling back to `dateutil`. To ensure parsing is consistent and as-expected, please specify a format.\n",
      "  df[col] = pd.to_datetime(df[col], utc=True)\n",
      "replaying log with TBR, completed variants :: 100%|██████████████████████████████████████| 3/3 [00:00<00:00, 162.52it/s]\n"
     ]
    },
    {
     "name": "stdout",
     "output_type": "stream",
     "text": [
      "heuristics_token_replay TrainConnector: teams TestConnector: teams Fitness: 0.9166666666666666\n"
     ]
    },
    {
     "name": "stderr",
     "output_type": "stream",
     "text": [
      "aligning log, completed variants :: 100%|█████████████████████████████████████████████████| 3/3 [00:00<00:00, 13.46it/s]\n"
     ]
    },
    {
     "name": "stdout",
     "output_type": "stream",
     "text": [
      "heuristics_alignment TrainConnector: teams TestConnector: teams Fitness: 0.9440438317426653\n"
     ]
    },
    {
     "name": "stderr",
     "output_type": "stream",
     "text": [
      "replaying log with TBR, completed variants :: 100%|███████████████████████████████████████| 3/3 [00:00<00:00, 58.47it/s]"
     ]
    },
    {
     "name": "stdout",
     "output_type": "stream",
     "text": [
      "inductive_token_replay TrainConnector: teams TestConnector: teams Fitness: 0.890857100415924\n"
     ]
    },
    {
     "name": "stderr",
     "output_type": "stream",
     "text": [
      "\n"
     ]
    }
   ],
   "source": [
    "import os\n",
    "import pandas as pd\n",
    "import pm4py\n",
    "from pm4py.algo.discovery.inductive import algorithm as inductive_miner\n",
    "from pm4py.algo.conformance.alignments.petri_net import algorithm as align\n",
    "from pm4py.algo.conformance.tokenreplay import algorithm as tr\n",
    "from pm4py.algo.discovery.heuristics import algorithm as heuristics_miner\n",
    "\n",
    "\n",
    "# .................................................................Data reprocessing.............................................................\n",
    "\n",
    "def split_processes():\n",
    "    file_path = os.path.join('Input/Recorded_Business_Tasks.csv')\n",
    "    df = pd.read_csv(file_path)\n",
    "    \n",
    "    grouped = df.groupby('ProcessId')\n",
    "    group_list = []\n",
    "    for name, group in grouped:\n",
    "        group_list.append(group)\n",
    "    \n",
    "    \n",
    "    os.makedirs('Processes')\n",
    "    for i in range(0,len(group_list)):\n",
    "        file_name = 'Processes/'+str(group_list[i].iloc[0]['ProcessId'])+'.csv'\n",
    "        group_list[i].to_csv(file_name, index=False)\n",
    "\n",
    "def split_instances():\n",
    "    for j in range (0,50):\n",
    "        file_path = os.path.join('./Processes/Process_'+str(j+1)+'.csv')\n",
    "        print(file_path)\n",
    "        df = pd.read_csv(file_path)\n",
    "        pr_id=df.loc[1,'ProcessId']\n",
    "        grouped = df.groupby('RecordingId')\n",
    "        group_list = []\n",
    "        for name, group in grouped:\n",
    "            group_list.append(group)\n",
    "            \n",
    "        for i in range(0,len(group_list)):\n",
    "            if not os.path.exists('Instances/'+str(pr_id)):\n",
    "                os.makedirs('Instances/'+str(pr_id))\n",
    "            file_name = 'Instances/'+str(pr_id)+'/'+str(pr_id)+'_Instance_'+str(i+1)+'.csv'\n",
    "            group_list[i].to_csv(file_name, index=False)\n",
    "\n",
    "def find_connectors():\n",
    "    for j in range (0,50):\n",
    "        connectors=[]\n",
    "        conSet=set()\n",
    "        file_path = os.path.join('./Processes/Process_'+str(j+1)+'.csv')\n",
    "        print(file_path)\n",
    "        df = pd.read_csv(file_path)\n",
    "        process=''\n",
    "        fileContent=''\n",
    "        for index, row in df.iterrows():\n",
    "            #connectors.append({'Connector':str(row['Connectors']),'Process':str(row['ProcessId'])})\n",
    "            process= str(row['ProcessId'])\n",
    "            connectors.append(str(row['Connectors']))\n",
    "        for v in set(connectors):\n",
    "            if  v and v!= 'nan':\n",
    "                fileContent+= v+'|'\n",
    "        print(process,fileContent)\n",
    "        with open('Instances/connectors/connectors.txt', 'a') as file:\n",
    "            file.write(process+\":\"+fileContent+'\\n')\n",
    "\n",
    "\n",
    "\n",
    "def modify_first_step(data_form):\n",
    "    data_form['StepName'] = data_form.apply(lambda row:'initial_'+ str(row['StepName']) if row['StepId']==0 else row['StepName'], axis=1)\n",
    "\n",
    "\n",
    "def modify_final_step(data_form):\n",
    "    grouped = data_form.groupby('RecordingId')\n",
    "    modified_df= pd.DataFrame()\n",
    "    for group, df in grouped:\n",
    "        df['StepName'] = df.apply(lambda row:'final_'+ str(row['StepName']) if (row['StepId']==df.iloc[-1]['StepId']) else row['StepName'], axis=1)\n",
    "        modified_df = pd.concat([modified_df, df])\n",
    "    return  modified_df\n",
    "    \n",
    "def modify_Step_application_name(data_form):\n",
    "    \n",
    "    data_form['StepName'] = data_form.apply(lambda row: str(row['StepName'])+'_in_'+str(row['ApplicationProcessName']) if pd.notna(row['ApplicationProcessName']) else row['StepName'], axis=1)\n",
    "\n",
    "\n",
    "# .................................................................Log generating.............................................................\n",
    "\n",
    "\n",
    "\n",
    "\n",
    "def generate_log_from_files(logs_folder_path):\n",
    "    files = [f for f in os.listdir(logs_folder_path) if os.path.isfile(os.path.join(logs_folder_path, f))]\n",
    "    dfs=[]\n",
    "    for file in files:\n",
    "        print(file)\n",
    "        df1 = pd.read_csv(logs_folder_path+file) \n",
    "        modify_first_step(df1)\n",
    "        df1=modify_final_step(df1)\n",
    "        modify_Step_application_name(df1)\n",
    "        dfs.append(df1)\n",
    "    dataframe = pd.concat(dfs,axis=0, ignore_index=True)\n",
    "    dataframe = dataframe[[\"RecordingId\", \"TimeStamp\", \"StepName\"]]\n",
    "    log_columns = [\"case:concept:name\", \"time:timestamp\", \"concept:name\"]\n",
    "    dataframe.columns = log_columns\n",
    "    dataframe[\"case:concept:name\"] = dataframe[\"case:concept:name\"].astype(str)\n",
    "    dataframe[\"time:timestamp\"] = pd.to_datetime(dataframe[\"time:timestamp\"])\n",
    "    dataframe[\"concept:name\"] = dataframe[\"concept:name\"].astype(str)\n",
    "    event_log = pm4py.convert_to_event_log(dataframe)\n",
    "  \n",
    "    return event_log\n",
    "\n",
    "\n",
    "\n",
    "def prepare_log_files(directory_path):\n",
    "    for folder_name in os.listdir(directory_path):\n",
    "        if folder_name=='Training logs':\n",
    "            for connectorFolder in os.listdir(directory_path+folder_name):\n",
    "                train_folder_path= directory_path+folder_name+'/'+connectorFolder+'/UsedInstances/'\n",
    "                event_log = generate_log_from_files(train_folder_path)\n",
    "                pm4py.write_xes(event_log,directory_path+folder_name+'/'+connectorFolder+'/train_log_'+connectorFolder+'.xes')\n",
    "                \n",
    "                    \n",
    "        elif folder_name=='Test logs':\n",
    "            for connectorFolder in os.listdir(directory_path+folder_name):\n",
    "                test_folder_path= directory_path+folder_name+'/'+connectorFolder+'/UsedInstances/'\n",
    "                event_log = generate_log_from_files(test_folder_path)\n",
    "                print(connector_folder_path[:-14])\n",
    "                pm4py.write_xes(event_log,directory_path+folder_name+'/'+connectorFolder+'/test_log_'+connectorFolder+'.xes')\n",
    "\n",
    "\n",
    "# .................................................................Process mining and conformance algorithms.............................................................\n",
    "\n",
    "\n",
    "\n",
    "\n",
    "def conform_alignment_inductive_miner(petri_log,test_log):\n",
    "    net, initial_marking, final_marking = pm4py.discover_petri_net_inductive(train_log)\n",
    "    alignement = align.apply_log(test_log, net, initial_marking, final_marking)\n",
    "    alignmentResult = pd.DataFrame(alignement)\n",
    "    averageAlignment = alignmentResult[\"fitness\"].mean()\n",
    "    return averageAlignment\n",
    "\n",
    "def conform_replay_inductive_miner(petri_log,test_log):\n",
    "    net, initial_marking, final_marking = pm4py.discover_petri_net_inductive(train_log)\n",
    "    tokenReplay = tr.apply(test_log, net, initial_marking, final_marking)\n",
    "    tokenReplayResult = pd.DataFrame(tokenReplay)\n",
    "    averageReplayFitness = tokenReplayResult[\"trace_fitness\"].mean()\n",
    "    return averageReplayFitness\n",
    "\n",
    "def conform_replay_heuristics_miner(petri_log,test_log):\n",
    "    net, initial_marking, final_marking = heuristics_miner.apply(train_log,parameters={heuristics_miner.Variants.CLASSIC.value.Parameters.DEPENDENCY_THRESH: 0.99})\n",
    "    tokenReplay = tr.apply(test_log, net, initial_marking, final_marking)\n",
    "    tokenReplayResult = pd.DataFrame(tokenReplay)\n",
    "    averageReplayFitness = tokenReplayResult[\"trace_fitness\"].mean()\n",
    "    return averageReplayFitness\n",
    "    \n",
    "def conform_alignment_heuristics_miner(petri_log,test_log):\n",
    "    net, initial_marking, final_marking = heuristics_miner.apply(petri_log,parameters={heuristics_miner.Variants.CLASSIC.value.Parameters.DEPENDENCY_THRESH: 0.99})\n",
    "    alignement = align.apply_log(test_log, net, initial_marking, final_marking)\n",
    "    alignmentResult = pd.DataFrame(alignement)\n",
    "    averageAlignmentFitness = alignmentResult[\"fitness\"].mean()\n",
    "    return averageAlignmentFitness\n",
    "\n",
    "# .................................................................Main.............................................................\n",
    "\n",
    "\n",
    "#prepare_log_files('./')\n",
    "\n",
    "training_path= 'Training logs/'\n",
    "testing_path= 'Test logs/'\n",
    "for train_connectorFolder in os.listdir(training_path):\n",
    "    train_log = pm4py.read_xes(training_path+train_connectorFolder+'/train_log_'+train_connectorFolder+'.xes')\n",
    "    for test_connectorFolder in os.listdir(testing_path):\n",
    "        test_log =  pm4py.read_xes(testing_path+test_connectorFolder+'/test_log_'+test_connectorFolder+'.xes')\n",
    "        print('heuristics_token_replay','TrainConnector:',train_connectorFolder,'TestConnector:',test_connectorFolder,'Fitness:',conform_replay_heuristics_miner(train_log,test_log))\n",
    "        print('heuristics_alignment','TrainConnector:',train_connectorFolder,'TestConnector:',test_connectorFolder,'Fitness:',conform_alignment_heuristics_miner(train_log,test_log))\n",
    "        print('inductive_token_replay','TrainConnector:',train_connectorFolder,'TestConnector:',test_connectorFolder,'Fitness:',conform_replay_inductive_miner(train_log,test_log))\n",
    "        #print('inductive_alignment','TrainConnector:',train_connectorFolder,'TestConnector:',test_connectorFolder,'Fitness:',conform_alignment_inductive_miner(train_log,test_log))\n",
    "\n",
    "    \n"
   ]
  },
  {
   "cell_type": "code",
   "execution_count": null,
   "id": "dad0cc5f-8310-4d9e-a0bd-3395801c9a4f",
   "metadata": {},
   "outputs": [],
   "source": []
  }
 ],
 "metadata": {
  "kernelspec": {
   "display_name": "Python 3 (ipykernel)",
   "language": "python",
   "name": "python3"
  },
  "language_info": {
   "codemirror_mode": {
    "name": "ipython",
    "version": 3
   },
   "file_extension": ".py",
   "mimetype": "text/x-python",
   "name": "python",
   "nbconvert_exporter": "python",
   "pygments_lexer": "ipython3",
   "version": "3.8.10"
  }
 },
 "nbformat": 4,
 "nbformat_minor": 5
}
