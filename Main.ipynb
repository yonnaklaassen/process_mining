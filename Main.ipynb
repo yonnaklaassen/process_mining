{
 "cells": [
  {
   "cell_type": "code",
   "execution_count": 14,
   "id": "be9ad274-fbce-429f-8898-302b1f119871",
   "metadata": {},
   "outputs": [
    {
     "name": "stderr",
     "output_type": "stream",
     "text": [
      "\n",
      "parsing log, completed traces :: 100%|█████████████████████████████████████████████████| 10/10 [00:00<00:00, 182.51it/s]\u001b[A\n",
      "/home/nawras/.local/lib/python3.8/site-packages/pm4py/objects/log/util/dataframe_utils.py:176: UserWarning: Could not infer format, so each element will be parsed individually, falling back to `dateutil`. To ensure parsing is consistent and as-expected, please specify a format.\n",
      "  df[col] = pd.to_datetime(df[col], utc=True)\n",
      "/home/nawras/.local/lib/python3.8/site-packages/pm4py/objects/log/util/dataframe_utils.py:176: UserWarning: Could not infer format, so each element will be parsed individually, falling back to `dateutil`. To ensure parsing is consistent and as-expected, please specify a format.\n",
      "  df[col] = pd.to_datetime(df[col], utc=True)\n",
      "\n",
      "parsing log, completed traces :: 100%|███████████████████████████████████████████████████| 5/5 [00:00<00:00, 191.15it/s]\u001b[A\n",
      "/home/nawras/.local/lib/python3.8/site-packages/pm4py/objects/log/util/dataframe_utils.py:176: UserWarning: Could not infer format, so each element will be parsed individually, falling back to `dateutil`. To ensure parsing is consistent and as-expected, please specify a format.\n",
      "  df[col] = pd.to_datetime(df[col], utc=True)\n",
      "/home/nawras/.local/lib/python3.8/site-packages/pm4py/objects/log/util/dataframe_utils.py:176: UserWarning: Could not infer format, so each element will be parsed individually, falling back to `dateutil`. To ensure parsing is consistent and as-expected, please specify a format.\n",
      "  df[col] = pd.to_datetime(df[col], utc=True)\n",
      "\n",
      "replaying log with TBR, completed variants ::   0%|                                               | 0/5 [00:00<?, ?it/s]\u001b[A\n",
      "replaying log with TBR, completed variants :: 100%|███████████████████████████████████████| 5/5 [00:00<00:00, 28.32it/s]\u001b[A\n"
     ]
    },
    {
     "name": "stdout",
     "output_type": "stream",
     "text": [
      "heuristics_token_replay TrainConnector: PowerBI TestConnector: PowerBI Fitness: 0.8793187911040168\n"
     ]
    },
    {
     "name": "stderr",
     "output_type": "stream",
     "text": [
      "\n",
      "aligning log, completed variants ::   0%|                                                         | 0/5 [00:00<?, ?it/s]\u001b[A\n",
      "aligning log, completed variants :: 100%|█████████████████████████████████████████████████| 5/5 [00:00<00:00, 24.59it/s]\u001b[A\n"
     ]
    },
    {
     "name": "stdout",
     "output_type": "stream",
     "text": [
      "heuristics_alignment TrainConnector: PowerBI TestConnector: PowerBI Fitness: 0.9726973684210527\n"
     ]
    },
    {
     "name": "stderr",
     "output_type": "stream",
     "text": [
      "\n",
      "replaying log with TBR, completed variants ::   0%|                                               | 0/5 [00:00<?, ?it/s]\u001b[A\n",
      "replaying log with TBR, completed variants :: 100%|███████████████████████████████████████| 5/5 [00:00<00:00, 23.97it/s]\u001b[A\n"
     ]
    },
    {
     "name": "stdout",
     "output_type": "stream",
     "text": [
      "inductive_token_replay TrainConnector: PowerBI TestConnector: PowerBI Fitness: 0.944663213564621\n"
     ]
    },
    {
     "name": "stderr",
     "output_type": "stream",
     "text": [
      "\n",
      "aligning log, completed variants ::   0%|                                                         | 0/5 [00:00<?, ?it/s]\u001b[A\n",
      "aligning log, completed variants ::  20%|█████████▊                                       | 1/5 [00:00<00:01,  2.61it/s]\u001b[A\n",
      "aligning log, completed variants ::  40%|███████████████████▏                            | 2/5 [20:56<31:25, 628.38s/it]\u001b[A\n",
      "aligning log, completed variants ::  80%|██████████████████████████████████████▍         | 4/5 [22:29<05:37, 337.37s/it]\n",
      "\n",
      "aligning log, completed variants ::  60%|█████████████████████████████▍                   | 3/5 [01:07<00:54, 27.06s/it]\u001b[A\n",
      "aligning log, completed variants ::  80%|███████████████████████████████████████▏         | 4/5 [01:24<00:23, 23.12s/it]\u001b[A\n",
      "aligning log, completed variants :: 100%|█████████████████████████████████████████████████| 5/5 [01:43<00:00, 20.71s/it]\u001b[A\n"
     ]
    },
    {
     "name": "stdout",
     "output_type": "stream",
     "text": [
      "inductive_alignment TrainConnector: PowerBI TestConnector: PowerBI Fitness: 0.6506472181349029\n"
     ]
    },
    {
     "name": "stderr",
     "output_type": "stream",
     "text": [
      "parsing log, completed traces :: 100%|███████████████████████████████████████████████████| 6/6 [00:00<00:00, 225.79it/s]\n",
      "/home/nawras/.local/lib/python3.8/site-packages/pm4py/objects/log/util/dataframe_utils.py:176: UserWarning: Could not infer format, so each element will be parsed individually, falling back to `dateutil`. To ensure parsing is consistent and as-expected, please specify a format.\n",
      "  df[col] = pd.to_datetime(df[col], utc=True)\n",
      "/home/nawras/.local/lib/python3.8/site-packages/pm4py/objects/log/util/dataframe_utils.py:176: UserWarning: Could not infer format, so each element will be parsed individually, falling back to `dateutil`. To ensure parsing is consistent and as-expected, please specify a format.\n",
      "  df[col] = pd.to_datetime(df[col], utc=True)\n",
      "replaying log with TBR, completed variants :: 100%|███████████████████████████████████████| 6/6 [00:00<00:00, 24.41it/s]\n"
     ]
    },
    {
     "name": "stdout",
     "output_type": "stream",
     "text": [
      "heuristics_token_replay TrainConnector: PowerBI TestConnector: rss Fitness: 0.8803487607180198\n"
     ]
    },
    {
     "name": "stderr",
     "output_type": "stream",
     "text": [
      "aligning log, completed variants :: 100%|█████████████████████████████████████████████████| 6/6 [00:00<00:00, 16.29it/s]\n"
     ]
    },
    {
     "name": "stdout",
     "output_type": "stream",
     "text": [
      "heuristics_alignment TrainConnector: PowerBI TestConnector: rss Fitness: 0.8334936271667326\n"
     ]
    },
    {
     "name": "stderr",
     "output_type": "stream",
     "text": [
      "replaying log with TBR, completed variants :: 100%|███████████████████████████████████████| 6/6 [00:00<00:00, 11.50it/s]\n"
     ]
    },
    {
     "name": "stdout",
     "output_type": "stream",
     "text": [
      "inductive_token_replay TrainConnector: PowerBI TestConnector: rss Fitness: 0.9230434813664335\n"
     ]
    },
    {
     "name": "stderr",
     "output_type": "stream",
     "text": [
      "aligning log, completed variants :: 100%|█████████████████████████████████████████████████| 6/6 [00:50<00:00,  8.40s/it]\n"
     ]
    },
    {
     "name": "stdout",
     "output_type": "stream",
     "text": [
      "inductive_alignment TrainConnector: PowerBI TestConnector: rss Fitness: 0.5313518768710455\n"
     ]
    },
    {
     "name": "stderr",
     "output_type": "stream",
     "text": [
      "parsing log, completed traces :: 100%|███████████████████████████████████████████████████| 5/5 [00:00<00:00, 446.61it/s]\n",
      "/home/nawras/.local/lib/python3.8/site-packages/pm4py/objects/log/util/dataframe_utils.py:176: UserWarning: Could not infer format, so each element will be parsed individually, falling back to `dateutil`. To ensure parsing is consistent and as-expected, please specify a format.\n",
      "  df[col] = pd.to_datetime(df[col], utc=True)\n",
      "/home/nawras/.local/lib/python3.8/site-packages/pm4py/objects/log/util/dataframe_utils.py:176: UserWarning: Could not infer format, so each element will be parsed individually, falling back to `dateutil`. To ensure parsing is consistent and as-expected, please specify a format.\n",
      "  df[col] = pd.to_datetime(df[col], utc=True)\n",
      "replaying log with TBR, completed variants :: 100%|███████████████████████████████████████| 5/5 [00:00<00:00, 29.08it/s]\n"
     ]
    },
    {
     "name": "stdout",
     "output_type": "stream",
     "text": [
      "heuristics_token_replay TrainConnector: PowerBI TestConnector: sendMail Fitness: 0.702908777046708\n"
     ]
    },
    {
     "name": "stderr",
     "output_type": "stream",
     "text": [
      "aligning log, completed variants :: 100%|█████████████████████████████████████████████████| 5/5 [00:00<00:00, 21.50it/s]\n"
     ]
    },
    {
     "name": "stdout",
     "output_type": "stream",
     "text": [
      "heuristics_alignment TrainConnector: PowerBI TestConnector: sendMail Fitness: 0.8221959930313589\n"
     ]
    },
    {
     "name": "stderr",
     "output_type": "stream",
     "text": [
      "replaying log with TBR, completed variants :: 100%|███████████████████████████████████████| 5/5 [00:00<00:00, 20.19it/s]\n"
     ]
    },
    {
     "name": "stdout",
     "output_type": "stream",
     "text": [
      "inductive_token_replay TrainConnector: PowerBI TestConnector: sendMail Fitness: 0.9287514465364483\n"
     ]
    },
    {
     "name": "stderr",
     "output_type": "stream",
     "text": [
      "aligning log, completed variants :: 100%|█████████████████████████████████████████████████| 5/5 [00:36<00:00,  7.22s/it]\n"
     ]
    },
    {
     "name": "stdout",
     "output_type": "stream",
     "text": [
      "inductive_alignment TrainConnector: PowerBI TestConnector: sendMail Fitness: 0.6121290423616005\n"
     ]
    },
    {
     "name": "stderr",
     "output_type": "stream",
     "text": [
      "parsing log, completed traces :: 100%|███████████████████████████████████████████████████| 4/4 [00:00<00:00, 270.33it/s]\n",
      "/home/nawras/.local/lib/python3.8/site-packages/pm4py/objects/log/util/dataframe_utils.py:176: UserWarning: Could not infer format, so each element will be parsed individually, falling back to `dateutil`. To ensure parsing is consistent and as-expected, please specify a format.\n",
      "  df[col] = pd.to_datetime(df[col], utc=True)\n",
      "/home/nawras/.local/lib/python3.8/site-packages/pm4py/objects/log/util/dataframe_utils.py:176: UserWarning: Could not infer format, so each element will be parsed individually, falling back to `dateutil`. To ensure parsing is consistent and as-expected, please specify a format.\n",
      "  df[col] = pd.to_datetime(df[col], utc=True)\n",
      "replaying log with TBR, completed variants :: 100%|███████████████████████████████████████| 4/4 [00:00<00:00, 28.00it/s]\n"
     ]
    },
    {
     "name": "stdout",
     "output_type": "stream",
     "text": [
      "heuristics_token_replay TrainConnector: PowerBI TestConnector: SQL Fitness: 0.8961698498719703\n"
     ]
    },
    {
     "name": "stderr",
     "output_type": "stream",
     "text": [
      "aligning log, completed variants :: 100%|█████████████████████████████████████████████████| 4/4 [00:00<00:00, 15.73it/s]\n"
     ]
    },
    {
     "name": "stdout",
     "output_type": "stream",
     "text": [
      "heuristics_alignment TrainConnector: PowerBI TestConnector: SQL Fitness: 0.8879762898067027\n"
     ]
    },
    {
     "name": "stderr",
     "output_type": "stream",
     "text": [
      "replaying log with TBR, completed variants :: 100%|███████████████████████████████████████| 4/4 [00:00<00:00, 11.02it/s]\n"
     ]
    },
    {
     "name": "stdout",
     "output_type": "stream",
     "text": [
      "inductive_token_replay TrainConnector: PowerBI TestConnector: SQL Fitness: 0.925561054890857\n"
     ]
    },
    {
     "name": "stderr",
     "output_type": "stream",
     "text": [
      "aligning log, completed variants :: 100%|█████████████████████████████████████████████████| 4/4 [01:03<00:00, 15.93s/it]\n"
     ]
    },
    {
     "name": "stdout",
     "output_type": "stream",
     "text": [
      "inductive_alignment TrainConnector: PowerBI TestConnector: SQL Fitness: 0.48073951517510893\n"
     ]
    },
    {
     "name": "stderr",
     "output_type": "stream",
     "text": [
      "parsing log, completed traces :: 100%|███████████████████████████████████████████████████| 3/3 [00:00<00:00, 415.90it/s]\n",
      "/home/nawras/.local/lib/python3.8/site-packages/pm4py/objects/log/util/dataframe_utils.py:176: UserWarning: Could not infer format, so each element will be parsed individually, falling back to `dateutil`. To ensure parsing is consistent and as-expected, please specify a format.\n",
      "  df[col] = pd.to_datetime(df[col], utc=True)\n",
      "/home/nawras/.local/lib/python3.8/site-packages/pm4py/objects/log/util/dataframe_utils.py:176: UserWarning: Could not infer format, so each element will be parsed individually, falling back to `dateutil`. To ensure parsing is consistent and as-expected, please specify a format.\n",
      "  df[col] = pd.to_datetime(df[col], utc=True)\n",
      "replaying log with TBR, completed variants :: 100%|███████████████████████████████████████| 3/3 [00:00<00:00, 33.32it/s]\n"
     ]
    },
    {
     "name": "stdout",
     "output_type": "stream",
     "text": [
      "heuristics_token_replay TrainConnector: PowerBI TestConnector: teams Fitness: 0.8886502526756868\n"
     ]
    },
    {
     "name": "stderr",
     "output_type": "stream",
     "text": [
      "aligning log, completed variants :: 100%|█████████████████████████████████████████████████| 3/3 [00:00<00:00, 37.55it/s]\n"
     ]
    },
    {
     "name": "stdout",
     "output_type": "stream",
     "text": [
      "heuristics_alignment TrainConnector: PowerBI TestConnector: teams Fitness: 0.8763285024154589\n"
     ]
    },
    {
     "name": "stderr",
     "output_type": "stream",
     "text": [
      "replaying log with TBR, completed variants :: 100%|███████████████████████████████████████| 3/3 [00:00<00:00, 28.65it/s]\n"
     ]
    },
    {
     "name": "stdout",
     "output_type": "stream",
     "text": [
      "inductive_token_replay TrainConnector: PowerBI TestConnector: teams Fitness: 0.9478487384215774\n"
     ]
    },
    {
     "name": "stderr",
     "output_type": "stream",
     "text": [
      "aligning log, completed variants :: 100%|█████████████████████████████████████████████████| 3/3 [00:19<00:00,  6.40s/it]\n"
     ]
    },
    {
     "name": "stdout",
     "output_type": "stream",
     "text": [
      "inductive_alignment TrainConnector: PowerBI TestConnector: teams Fitness: 0.7104069767441862\n"
     ]
    },
    {
     "name": "stderr",
     "output_type": "stream",
     "text": [
      "parsing log, completed traces :: 100%|█████████████████████████████████████████████████| 12/12 [00:00<00:00, 363.07it/s]\n",
      "/home/nawras/.local/lib/python3.8/site-packages/pm4py/objects/log/util/dataframe_utils.py:176: UserWarning: Could not infer format, so each element will be parsed individually, falling back to `dateutil`. To ensure parsing is consistent and as-expected, please specify a format.\n",
      "  df[col] = pd.to_datetime(df[col], utc=True)\n",
      "/home/nawras/.local/lib/python3.8/site-packages/pm4py/objects/log/util/dataframe_utils.py:176: UserWarning: Could not infer format, so each element will be parsed individually, falling back to `dateutil`. To ensure parsing is consistent and as-expected, please specify a format.\n",
      "  df[col] = pd.to_datetime(df[col], utc=True)\n",
      "parsing log, completed traces :: 100%|███████████████████████████████████████████████████| 5/5 [00:00<00:00, 330.64it/s]\n",
      "/home/nawras/.local/lib/python3.8/site-packages/pm4py/objects/log/util/dataframe_utils.py:176: UserWarning: Could not infer format, so each element will be parsed individually, falling back to `dateutil`. To ensure parsing is consistent and as-expected, please specify a format.\n",
      "  df[col] = pd.to_datetime(df[col], utc=True)\n",
      "/home/nawras/.local/lib/python3.8/site-packages/pm4py/objects/log/util/dataframe_utils.py:176: UserWarning: Could not infer format, so each element will be parsed individually, falling back to `dateutil`. To ensure parsing is consistent and as-expected, please specify a format.\n",
      "  df[col] = pd.to_datetime(df[col], utc=True)\n",
      "replaying log with TBR, completed variants :: 100%|███████████████████████████████████████| 5/5 [00:00<00:00, 20.20it/s]\n"
     ]
    },
    {
     "name": "stdout",
     "output_type": "stream",
     "text": [
      "heuristics_token_replay TrainConnector: rss TestConnector: PowerBI Fitness: 0.9048801960189742\n"
     ]
    },
    {
     "name": "stderr",
     "output_type": "stream",
     "text": [
      "aligning log, completed variants :: 100%|█████████████████████████████████████████████████| 5/5 [00:00<00:00, 10.47it/s]\n"
     ]
    },
    {
     "name": "stdout",
     "output_type": "stream",
     "text": [
      "heuristics_alignment TrainConnector: rss TestConnector: PowerBI Fitness: 0.9381240668159763\n"
     ]
    },
    {
     "name": "stderr",
     "output_type": "stream",
     "text": [
      "replaying log with TBR, completed variants :: 100%|███████████████████████████████████████| 5/5 [00:00<00:00, 15.14it/s]\n"
     ]
    },
    {
     "name": "stdout",
     "output_type": "stream",
     "text": [
      "inductive_token_replay TrainConnector: rss TestConnector: PowerBI Fitness: 0.9181665711807365\n"
     ]
    },
    {
     "name": "stderr",
     "output_type": "stream",
     "text": [
      "aligning log, completed variants :: 100%|█████████████████████████████████████████████████| 5/5 [05:35<00:00, 67.03s/it]\n"
     ]
    },
    {
     "name": "stdout",
     "output_type": "stream",
     "text": [
      "inductive_alignment TrainConnector: rss TestConnector: PowerBI Fitness: 0.7084713112568656\n"
     ]
    },
    {
     "name": "stderr",
     "output_type": "stream",
     "text": [
      "parsing log, completed traces :: 100%|███████████████████████████████████████████████████| 6/6 [00:00<00:00, 319.61it/s]\n",
      "/home/nawras/.local/lib/python3.8/site-packages/pm4py/objects/log/util/dataframe_utils.py:176: UserWarning: Could not infer format, so each element will be parsed individually, falling back to `dateutil`. To ensure parsing is consistent and as-expected, please specify a format.\n",
      "  df[col] = pd.to_datetime(df[col], utc=True)\n",
      "/home/nawras/.local/lib/python3.8/site-packages/pm4py/objects/log/util/dataframe_utils.py:176: UserWarning: Could not infer format, so each element will be parsed individually, falling back to `dateutil`. To ensure parsing is consistent and as-expected, please specify a format.\n",
      "  df[col] = pd.to_datetime(df[col], utc=True)\n",
      "replaying log with TBR, completed variants :: 100%|███████████████████████████████████████| 6/6 [00:00<00:00, 15.93it/s]\n"
     ]
    },
    {
     "name": "stdout",
     "output_type": "stream",
     "text": [
      "heuristics_token_replay TrainConnector: rss TestConnector: rss Fitness: 0.9270241800171015\n"
     ]
    },
    {
     "name": "stderr",
     "output_type": "stream",
     "text": [
      "aligning log, completed variants :: 100%|█████████████████████████████████████████████████| 6/6 [00:00<00:00, 10.76it/s]\n"
     ]
    },
    {
     "name": "stdout",
     "output_type": "stream",
     "text": [
      "heuristics_alignment TrainConnector: rss TestConnector: rss Fitness: 0.939992688274739\n"
     ]
    },
    {
     "name": "stderr",
     "output_type": "stream",
     "text": [
      "replaying log with TBR, completed variants :: 100%|███████████████████████████████████████| 6/6 [00:00<00:00, 10.82it/s]\n"
     ]
    },
    {
     "name": "stdout",
     "output_type": "stream",
     "text": [
      "inductive_token_replay TrainConnector: rss TestConnector: rss Fitness: 0.9556930430081443\n"
     ]
    },
    {
     "name": "stderr",
     "output_type": "stream",
     "text": [
      "aligning log, completed variants :: 100%|████████████████████████████████████████████████| 6/6 [10:27<00:00, 104.54s/it]\n"
     ]
    },
    {
     "name": "stdout",
     "output_type": "stream",
     "text": [
      "inductive_alignment TrainConnector: rss TestConnector: rss Fitness: 0.743159819795709\n"
     ]
    },
    {
     "name": "stderr",
     "output_type": "stream",
     "text": [
      "parsing log, completed traces :: 100%|███████████████████████████████████████████████████| 5/5 [00:00<00:00, 410.82it/s]\n",
      "/home/nawras/.local/lib/python3.8/site-packages/pm4py/objects/log/util/dataframe_utils.py:176: UserWarning: Could not infer format, so each element will be parsed individually, falling back to `dateutil`. To ensure parsing is consistent and as-expected, please specify a format.\n",
      "  df[col] = pd.to_datetime(df[col], utc=True)\n",
      "/home/nawras/.local/lib/python3.8/site-packages/pm4py/objects/log/util/dataframe_utils.py:176: UserWarning: Could not infer format, so each element will be parsed individually, falling back to `dateutil`. To ensure parsing is consistent and as-expected, please specify a format.\n",
      "  df[col] = pd.to_datetime(df[col], utc=True)\n",
      "replaying log with TBR, completed variants :: 100%|███████████████████████████████████████| 5/5 [00:00<00:00, 20.08it/s]\n"
     ]
    },
    {
     "name": "stdout",
     "output_type": "stream",
     "text": [
      "heuristics_token_replay TrainConnector: rss TestConnector: sendMail Fitness: 0.7498583477461633\n"
     ]
    },
    {
     "name": "stderr",
     "output_type": "stream",
     "text": [
      "aligning log, completed variants :: 100%|█████████████████████████████████████████████████| 5/5 [00:00<00:00, 18.07it/s]\n"
     ]
    },
    {
     "name": "stdout",
     "output_type": "stream",
     "text": [
      "heuristics_alignment TrainConnector: rss TestConnector: sendMail Fitness: 0.838234756097561\n"
     ]
    },
    {
     "name": "stderr",
     "output_type": "stream",
     "text": [
      "replaying log with TBR, completed variants :: 100%|███████████████████████████████████████| 5/5 [00:00<00:00, 18.33it/s]\n"
     ]
    },
    {
     "name": "stdout",
     "output_type": "stream",
     "text": [
      "inductive_token_replay TrainConnector: rss TestConnector: sendMail Fitness: 0.9601490117707344\n"
     ]
    },
    {
     "name": "stderr",
     "output_type": "stream",
     "text": [
      "aligning log, completed variants :: 100%|█████████████████████████████████████████████████| 5/5 [00:48<00:00,  9.61s/it]\n"
     ]
    },
    {
     "name": "stdout",
     "output_type": "stream",
     "text": [
      "inductive_alignment TrainConnector: rss TestConnector: sendMail Fitness: 0.746534843205575\n"
     ]
    },
    {
     "name": "stderr",
     "output_type": "stream",
     "text": [
      "parsing log, completed traces :: 100%|███████████████████████████████████████████████████| 4/4 [00:00<00:00, 302.67it/s]\n",
      "/home/nawras/.local/lib/python3.8/site-packages/pm4py/objects/log/util/dataframe_utils.py:176: UserWarning: Could not infer format, so each element will be parsed individually, falling back to `dateutil`. To ensure parsing is consistent and as-expected, please specify a format.\n",
      "  df[col] = pd.to_datetime(df[col], utc=True)\n",
      "/home/nawras/.local/lib/python3.8/site-packages/pm4py/objects/log/util/dataframe_utils.py:176: UserWarning: Could not infer format, so each element will be parsed individually, falling back to `dateutil`. To ensure parsing is consistent and as-expected, please specify a format.\n",
      "  df[col] = pd.to_datetime(df[col], utc=True)\n",
      "replaying log with TBR, completed variants :: 100%|███████████████████████████████████████| 4/4 [00:00<00:00, 17.81it/s]\n"
     ]
    },
    {
     "name": "stdout",
     "output_type": "stream",
     "text": [
      "heuristics_token_replay TrainConnector: rss TestConnector: SQL Fitness: 0.9260877296722885\n"
     ]
    },
    {
     "name": "stderr",
     "output_type": "stream",
     "text": [
      "aligning log, completed variants :: 100%|█████████████████████████████████████████████████| 4/4 [00:00<00:00, 14.66it/s]\n"
     ]
    },
    {
     "name": "stdout",
     "output_type": "stream",
     "text": [
      "heuristics_alignment TrainConnector: rss TestConnector: SQL Fitness: 0.9418623477759899\n"
     ]
    },
    {
     "name": "stderr",
     "output_type": "stream",
     "text": [
      "replaying log with TBR, completed variants :: 100%|███████████████████████████████████████| 4/4 [00:00<00:00, 14.36it/s]\n"
     ]
    },
    {
     "name": "stdout",
     "output_type": "stream",
     "text": [
      "inductive_token_replay TrainConnector: rss TestConnector: SQL Fitness: 0.9410658620945805\n"
     ]
    },
    {
     "name": "stderr",
     "output_type": "stream",
     "text": [
      "aligning log, completed variants :: 100%|████████████████████████████████████████████████| 4/4 [07:37<00:00, 114.33s/it]\n"
     ]
    },
    {
     "name": "stdout",
     "output_type": "stream",
     "text": [
      "inductive_alignment TrainConnector: rss TestConnector: SQL Fitness: 0.6823834853090173\n"
     ]
    },
    {
     "name": "stderr",
     "output_type": "stream",
     "text": [
      "parsing log, completed traces :: 100%|███████████████████████████████████████████████████| 3/3 [00:00<00:00, 454.73it/s]\n",
      "/home/nawras/.local/lib/python3.8/site-packages/pm4py/objects/log/util/dataframe_utils.py:176: UserWarning: Could not infer format, so each element will be parsed individually, falling back to `dateutil`. To ensure parsing is consistent and as-expected, please specify a format.\n",
      "  df[col] = pd.to_datetime(df[col], utc=True)\n",
      "/home/nawras/.local/lib/python3.8/site-packages/pm4py/objects/log/util/dataframe_utils.py:176: UserWarning: Could not infer format, so each element will be parsed individually, falling back to `dateutil`. To ensure parsing is consistent and as-expected, please specify a format.\n",
      "  df[col] = pd.to_datetime(df[col], utc=True)\n",
      "replaying log with TBR, completed variants :: 100%|███████████████████████████████████████| 3/3 [00:00<00:00, 25.42it/s]\n"
     ]
    },
    {
     "name": "stdout",
     "output_type": "stream",
     "text": [
      "heuristics_token_replay TrainConnector: rss TestConnector: teams Fitness: 0.9081935294199446\n"
     ]
    },
    {
     "name": "stderr",
     "output_type": "stream",
     "text": [
      "aligning log, completed variants :: 100%|█████████████████████████████████████████████████| 3/3 [00:00<00:00, 26.09it/s]\n"
     ]
    },
    {
     "name": "stdout",
     "output_type": "stream",
     "text": [
      "heuristics_alignment TrainConnector: rss TestConnector: teams Fitness: 0.983739837398374\n"
     ]
    },
    {
     "name": "stderr",
     "output_type": "stream",
     "text": [
      "replaying log with TBR, completed variants :: 100%|███████████████████████████████████████| 3/3 [00:00<00:00, 38.87it/s]\n"
     ]
    },
    {
     "name": "stdout",
     "output_type": "stream",
     "text": [
      "inductive_token_replay TrainConnector: rss TestConnector: teams Fitness: 0.9754662529679625\n"
     ]
    },
    {
     "name": "stderr",
     "output_type": "stream",
     "text": [
      "aligning log, completed variants :: 100%|█████████████████████████████████████████████████| 3/3 [01:41<00:00, 33.78s/it]\n"
     ]
    },
    {
     "name": "stdout",
     "output_type": "stream",
     "text": [
      "inductive_alignment TrainConnector: rss TestConnector: teams Fitness: 0.7839047955696948\n"
     ]
    },
    {
     "name": "stderr",
     "output_type": "stream",
     "text": [
      "parsing log, completed traces :: 100%|█████████████████████████████████████████████████| 10/10 [00:00<00:00, 466.06it/s]\n",
      "/home/nawras/.local/lib/python3.8/site-packages/pm4py/objects/log/util/dataframe_utils.py:176: UserWarning: Could not infer format, so each element will be parsed individually, falling back to `dateutil`. To ensure parsing is consistent and as-expected, please specify a format.\n",
      "  df[col] = pd.to_datetime(df[col], utc=True)\n",
      "/home/nawras/.local/lib/python3.8/site-packages/pm4py/objects/log/util/dataframe_utils.py:176: UserWarning: Could not infer format, so each element will be parsed individually, falling back to `dateutil`. To ensure parsing is consistent and as-expected, please specify a format.\n",
      "  df[col] = pd.to_datetime(df[col], utc=True)\n",
      "parsing log, completed traces :: 100%|███████████████████████████████████████████████████| 5/5 [00:00<00:00, 260.48it/s]\n",
      "/home/nawras/.local/lib/python3.8/site-packages/pm4py/objects/log/util/dataframe_utils.py:176: UserWarning: Could not infer format, so each element will be parsed individually, falling back to `dateutil`. To ensure parsing is consistent and as-expected, please specify a format.\n",
      "  df[col] = pd.to_datetime(df[col], utc=True)\n",
      "/home/nawras/.local/lib/python3.8/site-packages/pm4py/objects/log/util/dataframe_utils.py:176: UserWarning: Could not infer format, so each element will be parsed individually, falling back to `dateutil`. To ensure parsing is consistent and as-expected, please specify a format.\n",
      "  df[col] = pd.to_datetime(df[col], utc=True)\n",
      "replaying log with TBR, completed variants :: 100%|███████████████████████████████████████| 5/5 [00:00<00:00, 33.98it/s]\n"
     ]
    },
    {
     "name": "stdout",
     "output_type": "stream",
     "text": [
      "heuristics_token_replay TrainConnector: sendMail TestConnector: PowerBI Fitness: 0.8747677262502668\n"
     ]
    },
    {
     "name": "stderr",
     "output_type": "stream",
     "text": [
      "aligning log, completed variants :: 100%|█████████████████████████████████████████████████| 5/5 [00:00<00:00, 19.91it/s]\n"
     ]
    },
    {
     "name": "stdout",
     "output_type": "stream",
     "text": [
      "heuristics_alignment TrainConnector: sendMail TestConnector: PowerBI Fitness: 0.8611325521249933\n"
     ]
    },
    {
     "name": "stderr",
     "output_type": "stream",
     "text": [
      "replaying log with TBR, completed variants :: 100%|███████████████████████████████████████| 5/5 [00:00<00:00, 28.15it/s]\n"
     ]
    },
    {
     "name": "stdout",
     "output_type": "stream",
     "text": [
      "inductive_token_replay TrainConnector: sendMail TestConnector: PowerBI Fitness: 0.9756808466654798\n"
     ]
    },
    {
     "name": "stderr",
     "output_type": "stream",
     "text": [
      "aligning log, completed variants :: 100%|█████████████████████████████████████████████████| 5/5 [06:21<00:00, 76.23s/it]\n"
     ]
    },
    {
     "name": "stdout",
     "output_type": "stream",
     "text": [
      "inductive_alignment TrainConnector: sendMail TestConnector: PowerBI Fitness: 0.6748875141498465\n"
     ]
    },
    {
     "name": "stderr",
     "output_type": "stream",
     "text": [
      "parsing log, completed traces :: 100%|███████████████████████████████████████████████████| 6/6 [00:00<00:00, 330.26it/s]\n",
      "/home/nawras/.local/lib/python3.8/site-packages/pm4py/objects/log/util/dataframe_utils.py:176: UserWarning: Could not infer format, so each element will be parsed individually, falling back to `dateutil`. To ensure parsing is consistent and as-expected, please specify a format.\n",
      "  df[col] = pd.to_datetime(df[col], utc=True)\n",
      "/home/nawras/.local/lib/python3.8/site-packages/pm4py/objects/log/util/dataframe_utils.py:176: UserWarning: Could not infer format, so each element will be parsed individually, falling back to `dateutil`. To ensure parsing is consistent and as-expected, please specify a format.\n",
      "  df[col] = pd.to_datetime(df[col], utc=True)\n",
      "replaying log with TBR, completed variants :: 100%|███████████████████████████████████████| 6/6 [00:00<00:00, 24.19it/s]\n"
     ]
    },
    {
     "name": "stdout",
     "output_type": "stream",
     "text": [
      "heuristics_token_replay TrainConnector: sendMail TestConnector: rss Fitness: 0.8867137473725241\n"
     ]
    },
    {
     "name": "stderr",
     "output_type": "stream",
     "text": [
      "aligning log, completed variants :: 100%|█████████████████████████████████████████████████| 6/6 [00:00<00:00, 10.08it/s]\n"
     ]
    },
    {
     "name": "stdout",
     "output_type": "stream",
     "text": [
      "heuristics_alignment TrainConnector: sendMail TestConnector: rss Fitness: 0.8473566276503911\n"
     ]
    },
    {
     "name": "stderr",
     "output_type": "stream",
     "text": [
      "replaying log with TBR, completed variants :: 100%|███████████████████████████████████████| 6/6 [00:00<00:00, 16.19it/s]\n"
     ]
    },
    {
     "name": "stdout",
     "output_type": "stream",
     "text": [
      "inductive_token_replay TrainConnector: sendMail TestConnector: rss Fitness: 0.9659221943285407\n"
     ]
    },
    {
     "name": "stderr",
     "output_type": "stream",
     "text": [
      "aligning log, completed variants :: 100%|█████████████████████████████████████████████████| 6/6 [05:37<00:00, 56.32s/it]\n"
     ]
    },
    {
     "name": "stdout",
     "output_type": "stream",
     "text": [
      "inductive_alignment TrainConnector: sendMail TestConnector: rss Fitness: 0.6895633057604887\n"
     ]
    },
    {
     "name": "stderr",
     "output_type": "stream",
     "text": [
      "parsing log, completed traces :: 100%|███████████████████████████████████████████████████| 5/5 [00:00<00:00, 313.41it/s]\n",
      "/home/nawras/.local/lib/python3.8/site-packages/pm4py/objects/log/util/dataframe_utils.py:176: UserWarning: Could not infer format, so each element will be parsed individually, falling back to `dateutil`. To ensure parsing is consistent and as-expected, please specify a format.\n",
      "  df[col] = pd.to_datetime(df[col], utc=True)\n",
      "/home/nawras/.local/lib/python3.8/site-packages/pm4py/objects/log/util/dataframe_utils.py:176: UserWarning: Could not infer format, so each element will be parsed individually, falling back to `dateutil`. To ensure parsing is consistent and as-expected, please specify a format.\n",
      "  df[col] = pd.to_datetime(df[col], utc=True)\n",
      "replaying log with TBR, completed variants :: 100%|███████████████████████████████████████| 5/5 [00:00<00:00, 37.30it/s]\n"
     ]
    },
    {
     "name": "stdout",
     "output_type": "stream",
     "text": [
      "heuristics_token_replay TrainConnector: sendMail TestConnector: sendMail Fitness: 0.9218102176268446\n"
     ]
    },
    {
     "name": "stderr",
     "output_type": "stream",
     "text": [
      "aligning log, completed variants :: 100%|█████████████████████████████████████████████████| 5/5 [00:00<00:00, 22.85it/s]\n"
     ]
    },
    {
     "name": "stdout",
     "output_type": "stream",
     "text": [
      "heuristics_alignment TrainConnector: sendMail TestConnector: sendMail Fitness: 0.9582378048780488\n"
     ]
    },
    {
     "name": "stderr",
     "output_type": "stream",
     "text": [
      "replaying log with TBR, completed variants :: 100%|███████████████████████████████████████| 5/5 [00:00<00:00, 28.40it/s]\n"
     ]
    },
    {
     "name": "stdout",
     "output_type": "stream",
     "text": [
      "inductive_token_replay TrainConnector: sendMail TestConnector: sendMail Fitness: 0.986856264256198\n"
     ]
    },
    {
     "name": "stderr",
     "output_type": "stream",
     "text": [
      "aligning log, completed variants :: 100%|█████████████████████████████████████████████████| 5/5 [02:07<00:00, 25.54s/it]\n"
     ]
    },
    {
     "name": "stdout",
     "output_type": "stream",
     "text": [
      "inductive_alignment TrainConnector: sendMail TestConnector: sendMail Fitness: 0.7882366550156632\n"
     ]
    },
    {
     "name": "stderr",
     "output_type": "stream",
     "text": [
      "parsing log, completed traces :: 100%|███████████████████████████████████████████████████| 4/4 [00:00<00:00, 292.20it/s]\n",
      "/home/nawras/.local/lib/python3.8/site-packages/pm4py/objects/log/util/dataframe_utils.py:176: UserWarning: Could not infer format, so each element will be parsed individually, falling back to `dateutil`. To ensure parsing is consistent and as-expected, please specify a format.\n",
      "  df[col] = pd.to_datetime(df[col], utc=True)\n",
      "/home/nawras/.local/lib/python3.8/site-packages/pm4py/objects/log/util/dataframe_utils.py:176: UserWarning: Could not infer format, so each element will be parsed individually, falling back to `dateutil`. To ensure parsing is consistent and as-expected, please specify a format.\n",
      "  df[col] = pd.to_datetime(df[col], utc=True)\n",
      "replaying log with TBR, completed variants :: 100%|███████████████████████████████████████| 4/4 [00:00<00:00, 25.07it/s]\n"
     ]
    },
    {
     "name": "stdout",
     "output_type": "stream",
     "text": [
      "heuristics_token_replay TrainConnector: sendMail TestConnector: SQL Fitness: 0.8259043704272209\n"
     ]
    },
    {
     "name": "stderr",
     "output_type": "stream",
     "text": [
      "aligning log, completed variants :: 100%|█████████████████████████████████████████████████| 4/4 [00:00<00:00,  8.53it/s]\n"
     ]
    },
    {
     "name": "stdout",
     "output_type": "stream",
     "text": [
      "heuristics_alignment TrainConnector: sendMail TestConnector: SQL Fitness: 0.7892458579176351\n"
     ]
    },
    {
     "name": "stderr",
     "output_type": "stream",
     "text": [
      "replaying log with TBR, completed variants :: 100%|███████████████████████████████████████| 4/4 [00:00<00:00, 15.65it/s]\n"
     ]
    },
    {
     "name": "stdout",
     "output_type": "stream",
     "text": [
      "inductive_token_replay TrainConnector: sendMail TestConnector: SQL Fitness: 0.9603285793997394\n"
     ]
    },
    {
     "name": "stderr",
     "output_type": "stream",
     "text": [
      "aligning log, completed variants :: 100%|█████████████████████████████████████████████████| 4/4 [06:33<00:00, 98.35s/it]\n"
     ]
    },
    {
     "name": "stdout",
     "output_type": "stream",
     "text": [
      "inductive_alignment TrainConnector: sendMail TestConnector: SQL Fitness: 0.5721358518341688\n"
     ]
    },
    {
     "name": "stderr",
     "output_type": "stream",
     "text": [
      "parsing log, completed traces :: 100%|███████████████████████████████████████████████████| 3/3 [00:00<00:00, 429.89it/s]\n",
      "/home/nawras/.local/lib/python3.8/site-packages/pm4py/objects/log/util/dataframe_utils.py:176: UserWarning: Could not infer format, so each element will be parsed individually, falling back to `dateutil`. To ensure parsing is consistent and as-expected, please specify a format.\n",
      "  df[col] = pd.to_datetime(df[col], utc=True)\n",
      "/home/nawras/.local/lib/python3.8/site-packages/pm4py/objects/log/util/dataframe_utils.py:176: UserWarning: Could not infer format, so each element will be parsed individually, falling back to `dateutil`. To ensure parsing is consistent and as-expected, please specify a format.\n",
      "  df[col] = pd.to_datetime(df[col], utc=True)\n",
      "replaying log with TBR, completed variants :: 100%|███████████████████████████████████████| 3/3 [00:00<00:00, 43.53it/s]\n"
     ]
    },
    {
     "name": "stdout",
     "output_type": "stream",
     "text": [
      "heuristics_token_replay TrainConnector: sendMail TestConnector: teams Fitness: 0.8890571635014851\n"
     ]
    },
    {
     "name": "stderr",
     "output_type": "stream",
     "text": [
      "aligning log, completed variants :: 100%|█████████████████████████████████████████████████| 3/3 [00:00<00:00, 25.47it/s]\n"
     ]
    },
    {
     "name": "stdout",
     "output_type": "stream",
     "text": [
      "heuristics_alignment TrainConnector: sendMail TestConnector: teams Fitness: 0.9420289855072465\n"
     ]
    },
    {
     "name": "stderr",
     "output_type": "stream",
     "text": [
      "replaying log with TBR, completed variants :: 100%|███████████████████████████████████████| 3/3 [00:00<00:00, 12.96it/s]\n"
     ]
    },
    {
     "name": "stdout",
     "output_type": "stream",
     "text": [
      "inductive_token_replay TrainConnector: sendMail TestConnector: teams Fitness: 0.9397282783915107\n"
     ]
    },
    {
     "name": "stderr",
     "output_type": "stream",
     "text": [
      "aligning log, completed variants :: 100%|█████████████████████████████████████████████████| 3/3 [02:41<00:00, 53.67s/it]\n"
     ]
    },
    {
     "name": "stdout",
     "output_type": "stream",
     "text": [
      "inductive_alignment TrainConnector: sendMail TestConnector: teams Fitness: 0.682012432012432\n"
     ]
    },
    {
     "name": "stderr",
     "output_type": "stream",
     "text": [
      "parsing log, completed traces :: 100%|███████████████████████████████████████████████████| 8/8 [00:00<00:00, 290.79it/s]\n",
      "/home/nawras/.local/lib/python3.8/site-packages/pm4py/objects/log/util/dataframe_utils.py:176: UserWarning: Could not infer format, so each element will be parsed individually, falling back to `dateutil`. To ensure parsing is consistent and as-expected, please specify a format.\n",
      "  df[col] = pd.to_datetime(df[col], utc=True)\n",
      "/home/nawras/.local/lib/python3.8/site-packages/pm4py/objects/log/util/dataframe_utils.py:176: UserWarning: Could not infer format, so each element will be parsed individually, falling back to `dateutil`. To ensure parsing is consistent and as-expected, please specify a format.\n",
      "  df[col] = pd.to_datetime(df[col], utc=True)\n",
      "parsing log, completed traces :: 100%|███████████████████████████████████████████████████| 5/5 [00:00<00:00, 334.35it/s]\n",
      "/home/nawras/.local/lib/python3.8/site-packages/pm4py/objects/log/util/dataframe_utils.py:176: UserWarning: Could not infer format, so each element will be parsed individually, falling back to `dateutil`. To ensure parsing is consistent and as-expected, please specify a format.\n",
      "  df[col] = pd.to_datetime(df[col], utc=True)\n",
      "/home/nawras/.local/lib/python3.8/site-packages/pm4py/objects/log/util/dataframe_utils.py:176: UserWarning: Could not infer format, so each element will be parsed individually, falling back to `dateutil`. To ensure parsing is consistent and as-expected, please specify a format.\n",
      "  df[col] = pd.to_datetime(df[col], utc=True)\n",
      "replaying log with TBR, completed variants :: 100%|███████████████████████████████████████| 5/5 [00:00<00:00, 33.11it/s]\n"
     ]
    },
    {
     "name": "stdout",
     "output_type": "stream",
     "text": [
      "heuristics_token_replay TrainConnector: SQL TestConnector: PowerBI Fitness: 0.6963128626692457\n"
     ]
    },
    {
     "name": "stderr",
     "output_type": "stream",
     "text": [
      "aligning log, completed variants :: 100%|█████████████████████████████████████████████████| 5/5 [00:00<00:00, 21.86it/s]\n"
     ]
    },
    {
     "name": "stdout",
     "output_type": "stream",
     "text": [
      "heuristics_alignment TrainConnector: SQL TestConnector: PowerBI Fitness: 0.4880595771343252\n"
     ]
    },
    {
     "name": "stderr",
     "output_type": "stream",
     "text": [
      "replaying log with TBR, completed variants :: 100%|███████████████████████████████████████| 5/5 [00:00<00:00, 17.27it/s]\n"
     ]
    },
    {
     "name": "stdout",
     "output_type": "stream",
     "text": [
      "inductive_token_replay TrainConnector: SQL TestConnector: PowerBI Fitness: 0.874860431285928\n"
     ]
    },
    {
     "name": "stderr",
     "output_type": "stream",
     "text": [
      "aligning log, completed variants :: 100%|█████████████████████████████████████████████████| 5/5 [00:20<00:00,  4.01s/it]\n"
     ]
    },
    {
     "name": "stdout",
     "output_type": "stream",
     "text": [
      "inductive_alignment TrainConnector: SQL TestConnector: PowerBI Fitness: 0.27611982082866743\n"
     ]
    },
    {
     "name": "stderr",
     "output_type": "stream",
     "text": [
      "parsing log, completed traces :: 100%|███████████████████████████████████████████████████| 6/6 [00:00<00:00, 246.92it/s]\n",
      "/home/nawras/.local/lib/python3.8/site-packages/pm4py/objects/log/util/dataframe_utils.py:176: UserWarning: Could not infer format, so each element will be parsed individually, falling back to `dateutil`. To ensure parsing is consistent and as-expected, please specify a format.\n",
      "  df[col] = pd.to_datetime(df[col], utc=True)\n",
      "/home/nawras/.local/lib/python3.8/site-packages/pm4py/objects/log/util/dataframe_utils.py:176: UserWarning: Could not infer format, so each element will be parsed individually, falling back to `dateutil`. To ensure parsing is consistent and as-expected, please specify a format.\n",
      "  df[col] = pd.to_datetime(df[col], utc=True)\n",
      "replaying log with TBR, completed variants :: 100%|███████████████████████████████████████| 6/6 [00:00<00:00, 24.82it/s]\n"
     ]
    },
    {
     "name": "stdout",
     "output_type": "stream",
     "text": [
      "heuristics_token_replay TrainConnector: SQL TestConnector: rss Fitness: 0.6780765542849622\n"
     ]
    },
    {
     "name": "stderr",
     "output_type": "stream",
     "text": [
      "aligning log, completed variants :: 100%|█████████████████████████████████████████████████| 6/6 [00:00<00:00, 11.78it/s]\n"
     ]
    },
    {
     "name": "stdout",
     "output_type": "stream",
     "text": [
      "heuristics_alignment TrainConnector: SQL TestConnector: rss Fitness: 0.6407264408952841\n"
     ]
    },
    {
     "name": "stderr",
     "output_type": "stream",
     "text": [
      "replaying log with TBR, completed variants :: 100%|███████████████████████████████████████| 6/6 [00:00<00:00,  9.28it/s]\n"
     ]
    },
    {
     "name": "stdout",
     "output_type": "stream",
     "text": [
      "inductive_token_replay TrainConnector: SQL TestConnector: rss Fitness: 0.9176057228217994\n"
     ]
    },
    {
     "name": "stderr",
     "output_type": "stream",
     "text": [
      "aligning log, completed variants :: 100%|█████████████████████████████████████████████████| 6/6 [01:12<00:00, 12.09s/it]\n"
     ]
    },
    {
     "name": "stdout",
     "output_type": "stream",
     "text": [
      "inductive_alignment TrainConnector: SQL TestConnector: rss Fitness: 0.3866147980223358\n"
     ]
    },
    {
     "name": "stderr",
     "output_type": "stream",
     "text": [
      "parsing log, completed traces :: 100%|███████████████████████████████████████████████████| 5/5 [00:00<00:00, 308.24it/s]\n",
      "/home/nawras/.local/lib/python3.8/site-packages/pm4py/objects/log/util/dataframe_utils.py:176: UserWarning: Could not infer format, so each element will be parsed individually, falling back to `dateutil`. To ensure parsing is consistent and as-expected, please specify a format.\n",
      "  df[col] = pd.to_datetime(df[col], utc=True)\n",
      "/home/nawras/.local/lib/python3.8/site-packages/pm4py/objects/log/util/dataframe_utils.py:176: UserWarning: Could not infer format, so each element will be parsed individually, falling back to `dateutil`. To ensure parsing is consistent and as-expected, please specify a format.\n",
      "  df[col] = pd.to_datetime(df[col], utc=True)\n",
      "replaying log with TBR, completed variants :: 100%|███████████████████████████████████████| 5/5 [00:00<00:00, 37.25it/s]\n"
     ]
    },
    {
     "name": "stdout",
     "output_type": "stream",
     "text": [
      "heuristics_token_replay TrainConnector: SQL TestConnector: sendMail Fitness: 0.5350503126628043\n"
     ]
    },
    {
     "name": "stderr",
     "output_type": "stream",
     "text": [
      "aligning log, completed variants :: 100%|█████████████████████████████████████████████████| 5/5 [00:00<00:00, 21.39it/s]\n"
     ]
    },
    {
     "name": "stdout",
     "output_type": "stream",
     "text": [
      "heuristics_alignment TrainConnector: SQL TestConnector: sendMail Fitness: 0.5133545296167248\n"
     ]
    },
    {
     "name": "stderr",
     "output_type": "stream",
     "text": [
      "replaying log with TBR, completed variants :: 100%|███████████████████████████████████████| 5/5 [00:00<00:00, 21.76it/s]\n"
     ]
    },
    {
     "name": "stdout",
     "output_type": "stream",
     "text": [
      "inductive_token_replay TrainConnector: SQL TestConnector: sendMail Fitness: 0.929268259184021\n"
     ]
    },
    {
     "name": "stderr",
     "output_type": "stream",
     "text": [
      "aligning log, completed variants :: 100%|█████████████████████████████████████████████████| 5/5 [00:12<00:00,  2.49s/it]\n"
     ]
    },
    {
     "name": "stdout",
     "output_type": "stream",
     "text": [
      "inductive_alignment TrainConnector: SQL TestConnector: sendMail Fitness: 0.3687909407665505\n"
     ]
    },
    {
     "name": "stderr",
     "output_type": "stream",
     "text": [
      "parsing log, completed traces :: 100%|███████████████████████████████████████████████████| 4/4 [00:00<00:00, 300.08it/s]\n",
      "/home/nawras/.local/lib/python3.8/site-packages/pm4py/objects/log/util/dataframe_utils.py:176: UserWarning: Could not infer format, so each element will be parsed individually, falling back to `dateutil`. To ensure parsing is consistent and as-expected, please specify a format.\n",
      "  df[col] = pd.to_datetime(df[col], utc=True)\n",
      "/home/nawras/.local/lib/python3.8/site-packages/pm4py/objects/log/util/dataframe_utils.py:176: UserWarning: Could not infer format, so each element will be parsed individually, falling back to `dateutil`. To ensure parsing is consistent and as-expected, please specify a format.\n",
      "  df[col] = pd.to_datetime(df[col], utc=True)\n",
      "replaying log with TBR, completed variants :: 100%|███████████████████████████████████████| 4/4 [00:00<00:00, 32.72it/s]\n"
     ]
    },
    {
     "name": "stdout",
     "output_type": "stream",
     "text": [
      "heuristics_token_replay TrainConnector: SQL TestConnector: SQL Fitness: 0.8115864799421754\n"
     ]
    },
    {
     "name": "stderr",
     "output_type": "stream",
     "text": [
      "aligning log, completed variants :: 100%|█████████████████████████████████████████████████| 4/4 [00:00<00:00, 10.52it/s]\n"
     ]
    },
    {
     "name": "stdout",
     "output_type": "stream",
     "text": [
      "heuristics_alignment TrainConnector: SQL TestConnector: SQL Fitness: 0.6168623477759898\n"
     ]
    },
    {
     "name": "stderr",
     "output_type": "stream",
     "text": [
      "replaying log with TBR, completed variants :: 100%|███████████████████████████████████████| 4/4 [00:00<00:00,  7.39it/s]\n"
     ]
    },
    {
     "name": "stdout",
     "output_type": "stream",
     "text": [
      "inductive_token_replay TrainConnector: SQL TestConnector: SQL Fitness: 0.9267139289795299\n"
     ]
    },
    {
     "name": "stderr",
     "output_type": "stream",
     "text": [
      "aligning log, completed variants :: 100%|█████████████████████████████████████████████████| 4/4 [00:34<00:00,  8.64s/it]\n"
     ]
    },
    {
     "name": "stdout",
     "output_type": "stream",
     "text": [
      "inductive_alignment TrainConnector: SQL TestConnector: SQL Fitness: 0.33337008562290166\n"
     ]
    },
    {
     "name": "stderr",
     "output_type": "stream",
     "text": [
      "parsing log, completed traces :: 100%|███████████████████████████████████████████████████| 3/3 [00:00<00:00, 321.24it/s]\n",
      "/home/nawras/.local/lib/python3.8/site-packages/pm4py/objects/log/util/dataframe_utils.py:176: UserWarning: Could not infer format, so each element will be parsed individually, falling back to `dateutil`. To ensure parsing is consistent and as-expected, please specify a format.\n",
      "  df[col] = pd.to_datetime(df[col], utc=True)\n",
      "/home/nawras/.local/lib/python3.8/site-packages/pm4py/objects/log/util/dataframe_utils.py:176: UserWarning: Could not infer format, so each element will be parsed individually, falling back to `dateutil`. To ensure parsing is consistent and as-expected, please specify a format.\n",
      "  df[col] = pd.to_datetime(df[col], utc=True)\n",
      "replaying log with TBR, completed variants :: 100%|███████████████████████████████████████| 3/3 [00:00<00:00, 44.88it/s]\n"
     ]
    },
    {
     "name": "stdout",
     "output_type": "stream",
     "text": [
      "heuristics_token_replay TrainConnector: SQL TestConnector: teams Fitness: 0.7071513002364066\n"
     ]
    },
    {
     "name": "stderr",
     "output_type": "stream",
     "text": [
      "aligning log, completed variants :: 100%|█████████████████████████████████████████████████| 3/3 [00:00<00:00, 27.30it/s]\n"
     ]
    },
    {
     "name": "stdout",
     "output_type": "stream",
     "text": [
      "heuristics_alignment TrainConnector: SQL TestConnector: teams Fitness: 0.6677742429598208\n"
     ]
    },
    {
     "name": "stderr",
     "output_type": "stream",
     "text": [
      "replaying log with TBR, completed variants :: 100%|███████████████████████████████████████| 3/3 [00:00<00:00, 20.47it/s]\n"
     ]
    },
    {
     "name": "stdout",
     "output_type": "stream",
     "text": [
      "inductive_token_replay TrainConnector: SQL TestConnector: teams Fitness: 0.9121328921533839\n"
     ]
    },
    {
     "name": "stderr",
     "output_type": "stream",
     "text": [
      "aligning log, completed variants :: 100%|█████████████████████████████████████████████████| 3/3 [00:11<00:00,  3.96s/it]\n"
     ]
    },
    {
     "name": "stdout",
     "output_type": "stream",
     "text": [
      "inductive_alignment TrainConnector: SQL TestConnector: teams Fitness: 0.331389183457052\n"
     ]
    },
    {
     "name": "stderr",
     "output_type": "stream",
     "text": [
      "parsing log, completed traces :: 100%|███████████████████████████████████████████████████| 6/6 [00:00<00:00, 542.79it/s]\n",
      "/home/nawras/.local/lib/python3.8/site-packages/pm4py/objects/log/util/dataframe_utils.py:176: UserWarning: Could not infer format, so each element will be parsed individually, falling back to `dateutil`. To ensure parsing is consistent and as-expected, please specify a format.\n",
      "  df[col] = pd.to_datetime(df[col], utc=True)\n",
      "/home/nawras/.local/lib/python3.8/site-packages/pm4py/objects/log/util/dataframe_utils.py:176: UserWarning: Could not infer format, so each element will be parsed individually, falling back to `dateutil`. To ensure parsing is consistent and as-expected, please specify a format.\n",
      "  df[col] = pd.to_datetime(df[col], utc=True)\n",
      "parsing log, completed traces :: 100%|███████████████████████████████████████████████████| 5/5 [00:00<00:00, 359.19it/s]\n",
      "/home/nawras/.local/lib/python3.8/site-packages/pm4py/objects/log/util/dataframe_utils.py:176: UserWarning: Could not infer format, so each element will be parsed individually, falling back to `dateutil`. To ensure parsing is consistent and as-expected, please specify a format.\n",
      "  df[col] = pd.to_datetime(df[col], utc=True)\n",
      "/home/nawras/.local/lib/python3.8/site-packages/pm4py/objects/log/util/dataframe_utils.py:176: UserWarning: Could not infer format, so each element will be parsed individually, falling back to `dateutil`. To ensure parsing is consistent and as-expected, please specify a format.\n",
      "  df[col] = pd.to_datetime(df[col], utc=True)\n",
      "replaying log with TBR, completed variants :: 100%|███████████████████████████████████████| 5/5 [00:00<00:00, 43.75it/s]\n"
     ]
    },
    {
     "name": "stdout",
     "output_type": "stream",
     "text": [
      "heuristics_token_replay TrainConnector: teams TestConnector: PowerBI Fitness: 0.8904835164835164\n"
     ]
    },
    {
     "name": "stderr",
     "output_type": "stream",
     "text": [
      "aligning log, completed variants :: 100%|█████████████████████████████████████████████████| 5/5 [00:00<00:00, 14.46it/s]\n"
     ]
    },
    {
     "name": "stdout",
     "output_type": "stream",
     "text": [
      "heuristics_alignment TrainConnector: teams TestConnector: PowerBI Fitness: 0.7488976763717805\n"
     ]
    },
    {
     "name": "stderr",
     "output_type": "stream",
     "text": [
      "replaying log with TBR, completed variants :: 100%|███████████████████████████████████████| 5/5 [00:00<00:00, 43.47it/s]\n"
     ]
    },
    {
     "name": "stdout",
     "output_type": "stream",
     "text": [
      "inductive_token_replay TrainConnector: teams TestConnector: PowerBI Fitness: 0.9068556669716162\n"
     ]
    },
    {
     "name": "stderr",
     "output_type": "stream",
     "text": [
      "aligning log, completed variants :: 100%|█████████████████████████████████████████████████| 5/5 [00:11<00:00,  2.30s/it]\n"
     ]
    },
    {
     "name": "stdout",
     "output_type": "stream",
     "text": [
      "inductive_alignment TrainConnector: teams TestConnector: PowerBI Fitness: 0.6124409181621425\n"
     ]
    },
    {
     "name": "stderr",
     "output_type": "stream",
     "text": [
      "parsing log, completed traces :: 100%|███████████████████████████████████████████████████| 6/6 [00:00<00:00, 337.13it/s]\n",
      "/home/nawras/.local/lib/python3.8/site-packages/pm4py/objects/log/util/dataframe_utils.py:176: UserWarning: Could not infer format, so each element will be parsed individually, falling back to `dateutil`. To ensure parsing is consistent and as-expected, please specify a format.\n",
      "  df[col] = pd.to_datetime(df[col], utc=True)\n",
      "/home/nawras/.local/lib/python3.8/site-packages/pm4py/objects/log/util/dataframe_utils.py:176: UserWarning: Could not infer format, so each element will be parsed individually, falling back to `dateutil`. To ensure parsing is consistent and as-expected, please specify a format.\n",
      "  df[col] = pd.to_datetime(df[col], utc=True)\n",
      "replaying log with TBR, completed variants :: 100%|███████████████████████████████████████| 6/6 [00:00<00:00, 38.09it/s]\n"
     ]
    },
    {
     "name": "stdout",
     "output_type": "stream",
     "text": [
      "heuristics_token_replay TrainConnector: teams TestConnector: rss Fitness: 0.859443880704959\n"
     ]
    },
    {
     "name": "stderr",
     "output_type": "stream",
     "text": [
      "aligning log, completed variants :: 100%|█████████████████████████████████████████████████| 6/6 [00:00<00:00, 22.55it/s]\n"
     ]
    },
    {
     "name": "stdout",
     "output_type": "stream",
     "text": [
      "heuristics_alignment TrainConnector: teams TestConnector: rss Fitness: 0.8281812345795627\n"
     ]
    },
    {
     "name": "stderr",
     "output_type": "stream",
     "text": [
      "replaying log with TBR, completed variants :: 100%|███████████████████████████████████████| 6/6 [00:00<00:00, 29.40it/s]\n"
     ]
    },
    {
     "name": "stdout",
     "output_type": "stream",
     "text": [
      "inductive_token_replay TrainConnector: teams TestConnector: rss Fitness: 0.9247547514254886\n"
     ]
    },
    {
     "name": "stderr",
     "output_type": "stream",
     "text": [
      "aligning log, completed variants :: 100%|█████████████████████████████████████████████████| 6/6 [00:08<00:00,  1.49s/it]\n"
     ]
    },
    {
     "name": "stdout",
     "output_type": "stream",
     "text": [
      "inductive_alignment TrainConnector: teams TestConnector: rss Fitness: 0.5769687569863627\n"
     ]
    },
    {
     "name": "stderr",
     "output_type": "stream",
     "text": [
      "parsing log, completed traces :: 100%|███████████████████████████████████████████████████| 5/5 [00:00<00:00, 233.22it/s]\n",
      "/home/nawras/.local/lib/python3.8/site-packages/pm4py/objects/log/util/dataframe_utils.py:176: UserWarning: Could not infer format, so each element will be parsed individually, falling back to `dateutil`. To ensure parsing is consistent and as-expected, please specify a format.\n",
      "  df[col] = pd.to_datetime(df[col], utc=True)\n",
      "/home/nawras/.local/lib/python3.8/site-packages/pm4py/objects/log/util/dataframe_utils.py:176: UserWarning: Could not infer format, so each element will be parsed individually, falling back to `dateutil`. To ensure parsing is consistent and as-expected, please specify a format.\n",
      "  df[col] = pd.to_datetime(df[col], utc=True)\n",
      "replaying log with TBR, completed variants :: 100%|███████████████████████████████████████| 5/5 [00:00<00:00, 41.96it/s]\n"
     ]
    },
    {
     "name": "stdout",
     "output_type": "stream",
     "text": [
      "heuristics_token_replay TrainConnector: teams TestConnector: sendMail Fitness: 0.886310015463968\n"
     ]
    },
    {
     "name": "stderr",
     "output_type": "stream",
     "text": [
      "aligning log, completed variants :: 100%|█████████████████████████████████████████████████| 5/5 [00:00<00:00, 22.53it/s]\n"
     ]
    },
    {
     "name": "stdout",
     "output_type": "stream",
     "text": [
      "heuristics_alignment TrainConnector: teams TestConnector: sendMail Fitness: 0.9523689024390244\n"
     ]
    },
    {
     "name": "stderr",
     "output_type": "stream",
     "text": [
      "replaying log with TBR, completed variants :: 100%|███████████████████████████████████████| 5/5 [00:00<00:00, 57.99it/s]\n"
     ]
    },
    {
     "name": "stdout",
     "output_type": "stream",
     "text": [
      "inductive_token_replay TrainConnector: teams TestConnector: sendMail Fitness: 0.9720349326048467\n"
     ]
    },
    {
     "name": "stderr",
     "output_type": "stream",
     "text": [
      "aligning log, completed variants :: 100%|█████████████████████████████████████████████████| 5/5 [00:12<00:00,  2.44s/it]\n"
     ]
    },
    {
     "name": "stdout",
     "output_type": "stream",
     "text": [
      "inductive_alignment TrainConnector: teams TestConnector: sendMail Fitness: 0.6789350274184169\n"
     ]
    },
    {
     "name": "stderr",
     "output_type": "stream",
     "text": [
      "parsing log, completed traces :: 100%|███████████████████████████████████████████████████| 4/4 [00:00<00:00, 293.38it/s]\n",
      "/home/nawras/.local/lib/python3.8/site-packages/pm4py/objects/log/util/dataframe_utils.py:176: UserWarning: Could not infer format, so each element will be parsed individually, falling back to `dateutil`. To ensure parsing is consistent and as-expected, please specify a format.\n",
      "  df[col] = pd.to_datetime(df[col], utc=True)\n",
      "/home/nawras/.local/lib/python3.8/site-packages/pm4py/objects/log/util/dataframe_utils.py:176: UserWarning: Could not infer format, so each element will be parsed individually, falling back to `dateutil`. To ensure parsing is consistent and as-expected, please specify a format.\n",
      "  df[col] = pd.to_datetime(df[col], utc=True)\n",
      "replaying log with TBR, completed variants :: 100%|███████████████████████████████████████| 4/4 [00:00<00:00, 41.62it/s]\n"
     ]
    },
    {
     "name": "stdout",
     "output_type": "stream",
     "text": [
      "heuristics_token_replay TrainConnector: teams TestConnector: SQL Fitness: 0.8133278367653368\n"
     ]
    },
    {
     "name": "stderr",
     "output_type": "stream",
     "text": [
      "aligning log, completed variants :: 100%|█████████████████████████████████████████████████| 4/4 [00:00<00:00, 16.69it/s]\n"
     ]
    },
    {
     "name": "stdout",
     "output_type": "stream",
     "text": [
      "heuristics_alignment TrainConnector: teams TestConnector: SQL Fitness: 0.7084892822377178\n"
     ]
    },
    {
     "name": "stderr",
     "output_type": "stream",
     "text": [
      "replaying log with TBR, completed variants :: 100%|███████████████████████████████████████| 4/4 [00:00<00:00, 40.28it/s]\n"
     ]
    },
    {
     "name": "stdout",
     "output_type": "stream",
     "text": [
      "inductive_token_replay TrainConnector: teams TestConnector: SQL Fitness: 0.9190111141728683\n"
     ]
    },
    {
     "name": "stderr",
     "output_type": "stream",
     "text": [
      "aligning log, completed variants :: 100%|█████████████████████████████████████████████████| 4/4 [00:09<00:00,  2.40s/it]\n"
     ]
    },
    {
     "name": "stdout",
     "output_type": "stream",
     "text": [
      "inductive_alignment TrainConnector: teams TestConnector: SQL Fitness: 0.5320693582398346\n"
     ]
    },
    {
     "name": "stderr",
     "output_type": "stream",
     "text": [
      "parsing log, completed traces :: 100%|███████████████████████████████████████████████████| 3/3 [00:00<00:00, 457.46it/s]\n",
      "/home/nawras/.local/lib/python3.8/site-packages/pm4py/objects/log/util/dataframe_utils.py:176: UserWarning: Could not infer format, so each element will be parsed individually, falling back to `dateutil`. To ensure parsing is consistent and as-expected, please specify a format.\n",
      "  df[col] = pd.to_datetime(df[col], utc=True)\n",
      "/home/nawras/.local/lib/python3.8/site-packages/pm4py/objects/log/util/dataframe_utils.py:176: UserWarning: Could not infer format, so each element will be parsed individually, falling back to `dateutil`. To ensure parsing is consistent and as-expected, please specify a format.\n",
      "  df[col] = pd.to_datetime(df[col], utc=True)\n",
      "replaying log with TBR, completed variants :: 100%|███████████████████████████████████████| 3/3 [00:00<00:00, 53.29it/s]\n"
     ]
    },
    {
     "name": "stdout",
     "output_type": "stream",
     "text": [
      "heuristics_token_replay TrainConnector: teams TestConnector: teams Fitness: 0.8668262530657872\n"
     ]
    },
    {
     "name": "stderr",
     "output_type": "stream",
     "text": [
      "aligning log, completed variants :: 100%|█████████████████████████████████████████████████| 3/3 [00:00<00:00, 42.07it/s]\n"
     ]
    },
    {
     "name": "stdout",
     "output_type": "stream",
     "text": [
      "heuristics_alignment TrainConnector: teams TestConnector: teams Fitness: 0.9440438317426653\n"
     ]
    },
    {
     "name": "stderr",
     "output_type": "stream",
     "text": [
      "replaying log with TBR, completed variants :: 100%|███████████████████████████████████████| 3/3 [00:00<00:00, 52.48it/s]\n"
     ]
    },
    {
     "name": "stdout",
     "output_type": "stream",
     "text": [
      "inductive_token_replay TrainConnector: teams TestConnector: teams Fitness: 0.890857100415924\n"
     ]
    },
    {
     "name": "stderr",
     "output_type": "stream",
     "text": [
      "aligning log, completed variants :: 100%|█████████████████████████████████████████████████| 3/3 [00:03<00:00,  1.31s/it]"
     ]
    },
    {
     "name": "stdout",
     "output_type": "stream",
     "text": [
      "inductive_alignment TrainConnector: teams TestConnector: teams Fitness: 0.7313519813519814\n"
     ]
    },
    {
     "name": "stderr",
     "output_type": "stream",
     "text": [
      "\n"
     ]
    }
   ],
   "source": [
    "import os\n",
    "import pandas as pd\n",
    "import pm4py\n",
    "from pm4py.algo.discovery.inductive import algorithm as inductive_miner\n",
    "from pm4py.algo.conformance.alignments.petri_net import algorithm as align\n",
    "from pm4py.algo.conformance.tokenreplay import algorithm as tr\n",
    "from pm4py.algo.discovery.heuristics import algorithm as heuristics_miner\n",
    "from pm4py.convert import convert_to_petri_net\n",
    "\n",
    "# .................................................................Data reprocessing.............................................................\n",
    "\n",
    "def split_processes():\n",
    "    file_path = os.path.join('Input/Recorded_Business_Tasks.csv')\n",
    "    df = pd.read_csv(file_path)\n",
    "    \n",
    "    grouped = df.groupby('ProcessId')\n",
    "    group_list = []\n",
    "    for name, group in grouped:\n",
    "        group_list.append(group)\n",
    "    \n",
    "    \n",
    "    os.makedirs('Processes')\n",
    "    for i in range(0,len(group_list)):\n",
    "        file_name = 'Processes/'+str(group_list[i].iloc[0]['ProcessId'])+'.csv'\n",
    "        group_list[i].to_csv(file_name, index=False)\n",
    "\n",
    "def split_instances():\n",
    "    for j in range (0,50):\n",
    "        file_path = os.path.join('./Processes/Process_'+str(j+1)+'.csv')\n",
    "        print(file_path)\n",
    "        df = pd.read_csv(file_path)\n",
    "        pr_id=df.loc[1,'ProcessId']\n",
    "        grouped = df.groupby('RecordingId')\n",
    "        group_list = []\n",
    "        for name, group in grouped:\n",
    "            group_list.append(group)\n",
    "            \n",
    "        for i in range(0,len(group_list)):\n",
    "            if not os.path.exists('Instances/'+str(pr_id)):\n",
    "                os.makedirs('Instances/'+str(pr_id))\n",
    "            file_name = 'Instances/'+str(pr_id)+'/'+str(pr_id)+'_Instance_'+str(i+1)+'.csv'\n",
    "            group_list[i].to_csv(file_name, index=False)\n",
    "\n",
    "def find_connectors():\n",
    "    for j in range (0,50):\n",
    "        connectors=[]\n",
    "        conSet=set()\n",
    "        file_path = os.path.join('./Processes/Process_'+str(j+1)+'.csv')\n",
    "        print(file_path)\n",
    "        df = pd.read_csv(file_path)\n",
    "        process=''\n",
    "        fileContent=''\n",
    "        for index, row in df.iterrows():\n",
    "            #connectors.append({'Connector':str(row['Connectors']),'Process':str(row['ProcessId'])})\n",
    "            process= str(row['ProcessId'])\n",
    "            connectors.append(str(row['Connectors']))\n",
    "        for v in set(connectors):\n",
    "            if  v and v!= 'nan':\n",
    "                fileContent+= v+'|'\n",
    "        print(process,fileContent)\n",
    "        with open('Instances/connectors/connectors.txt', 'a') as file:\n",
    "            file.write(process+\":\"+fileContent+'\\n')\n",
    "\n",
    "\n",
    "\n",
    "def modify_first_step(data_form):\n",
    "    data_form['StepName'] = data_form.apply(lambda row:'initial_'+ str(row['StepName']) if row['StepId']==0 else row['StepName'], axis=1)\n",
    "\n",
    "\n",
    "def modify_final_step(data_form):\n",
    "    grouped = data_form.groupby('RecordingId')\n",
    "    modified_df= pd.DataFrame()\n",
    "    for group, df in grouped:\n",
    "        df['StepName'] = df.apply(lambda row:'final_'+ str(row['StepName']) if (row['StepId']==df.iloc[-1]['StepId']) else row['StepName'], axis=1)\n",
    "        modified_df = pd.concat([modified_df, df])\n",
    "    return  modified_df\n",
    "    \n",
    "def modify_Step_application_name(data_form):\n",
    "    \n",
    "    data_form['StepName'] = data_form.apply(lambda row: str(row['StepName'])+'_in_'+str(row['ApplicationProcessName']) if pd.notna(row['ApplicationProcessName']) else row['StepName'], axis=1)\n",
    "\n",
    "def fill_missing_application_name(data_form):\n",
    "    \n",
    "    data_form['ApplicationProcessName'] = data_form.apply(lambda row: 'Operation_system' if not pd.notna(row['ApplicationProcessName']) else row['ApplicationProcessName'], axis=1)\n",
    "\n",
    "\n",
    "# .................................................................Log generating.............................................................\n",
    "\n",
    "\n",
    "\n",
    "\n",
    "def generate_xes_logs_from_csv_files(logs_folder_path):\n",
    "    files = [f for f in os.listdir(logs_folder_path) if os.path.isfile(os.path.join(logs_folder_path, f))]\n",
    "    dfs=[]\n",
    "    for file in files:\n",
    "        print(file)\n",
    "        df1 = pd.read_csv(logs_folder_path+file) \n",
    "        modify_first_step(df1)\n",
    "        df1=modify_final_step(df1)\n",
    "        fill_missing_application_name(df1)\n",
    "        modify_Step_application_name(df1)\n",
    "        dfs.append(df1)\n",
    "    dataframe = pd.concat(dfs,axis=0, ignore_index=True)\n",
    "    dataframe = dataframe[[\"RecordingId\", \"TimeStamp\", \"StepName\"]]\n",
    "    log_columns = [\"case:concept:name\", \"time:timestamp\", \"concept:name\"]\n",
    "    dataframe.columns = log_columns\n",
    "    dataframe[\"case:concept:name\"] = dataframe[\"case:concept:name\"].astype(str)\n",
    "    dataframe[\"time:timestamp\"] = pd.to_datetime(dataframe[\"time:timestamp\"])\n",
    "    dataframe[\"concept:name\"] = dataframe[\"concept:name\"].astype(str)\n",
    "    event_log = pm4py.convert_to_event_log(dataframe)\n",
    "  \n",
    "    return event_log\n",
    "\n",
    "\n",
    "\n",
    "def prepare_log_files(directory_path):\n",
    "    for folder_name in os.listdir(directory_path):\n",
    "        if folder_name=='Training logs':\n",
    "            for connectorFolder in os.listdir(directory_path+folder_name):\n",
    "                train_folder_path= directory_path+folder_name+'/'+connectorFolder+'/UsedInstances/'\n",
    "                event_log = generate_xes_logs_from_csv_files(train_folder_path)\n",
    "                pm4py.write_xes(event_log,directory_path+folder_name+'/'+connectorFolder+'/train_log_'+connectorFolder+'.xes')\n",
    "                \n",
    "                    \n",
    "        elif folder_name=='Test logs':\n",
    "            for connectorFolder in os.listdir(directory_path+folder_name):\n",
    "                test_folder_path= directory_path+folder_name+'/'+connectorFolder+'/UsedInstances/'\n",
    "                event_log = generate_xes_logs_from_csv_files(test_folder_path)\n",
    "                #print(connector_folder_path[:-14])\n",
    "                pm4py.write_xes(event_log,directory_path+folder_name+'/'+connectorFolder+'/test_log_'+connectorFolder+'.xes')\n",
    "\n",
    "\n",
    "# .................................................................Process mining and conformance algorithms.............................................................\n",
    "\n",
    "\n",
    "\n",
    "\n",
    "def conform_alignment_inductive_miner(petri_log,test_log):\n",
    "    pt = pm4py.discover_process_tree_inductive(petri_log, 0.4)\n",
    "    net, initial_marking, final_marking = convert_to_petri_net(pt)\n",
    "    alignement = align.apply_log(test_log, net, initial_marking, final_marking)\n",
    "    alignmentResult = pd.DataFrame(alignement)\n",
    "    averageAlignment = alignmentResult[\"fitness\"].mean()\n",
    "    return averageAlignment\n",
    "\n",
    "def conform_replay_inductive_miner(petri_log,test_log):\n",
    "    net, initial_marking, final_marking = pm4py.discover_petri_net_inductive(train_log)\n",
    "    tokenReplay = tr.apply(test_log, net, initial_marking, final_marking)\n",
    "    tokenReplayResult = pd.DataFrame(tokenReplay)\n",
    "    averageReplayFitness = tokenReplayResult[\"trace_fitness\"].mean()\n",
    "    return averageReplayFitness\n",
    "\n",
    "def conform_replay_heuristics_miner(petri_log,test_log):\n",
    "    net, initial_marking, final_marking = heuristics_miner.apply(train_log,parameters={heuristics_miner.Variants.CLASSIC.value.Parameters.DEPENDENCY_THRESH: 0.5})\n",
    "    tokenReplay = tr.apply(test_log, net, initial_marking, final_marking)\n",
    "    tokenReplayResult = pd.DataFrame(tokenReplay)\n",
    "    averageReplayFitness = tokenReplayResult[\"trace_fitness\"].mean()\n",
    "    return averageReplayFitness\n",
    "    \n",
    "def conform_alignment_heuristics_miner(petri_log,test_log):\n",
    "    net, initial_marking, final_marking = heuristics_miner.apply(petri_log,parameters={heuristics_miner.Variants.CLASSIC.value.Parameters.DEPENDENCY_THRESH: 0.99})\n",
    "    alignement = align.apply_log(test_log, net, initial_marking, final_marking)\n",
    "    alignmentResult = pd.DataFrame(alignement)\n",
    "    averageAlignmentFitness = alignmentResult[\"fitness\"].mean()\n",
    "    return averageAlignmentFitness\n",
    "\n",
    "# .................................................................Main.............................................................\n",
    "\n",
    "#prepare_log_files('./')\n",
    "\n",
    "training_path= 'Training logs/'\n",
    "testing_path= 'Test logs/'\n",
    "for train_connectorFolder in os.listdir(training_path):\n",
    "    train_log = pm4py.read_xes(training_path+train_connectorFolder+'/train_log_'+train_connectorFolder+'.xes')\n",
    "    for test_connectorFolder in os.listdir(testing_path):\n",
    "        test_log =  pm4py.read_xes(testing_path+test_connectorFolder+'/test_log_'+test_connectorFolder+'.xes')\n",
    "        print('heuristics_token_replay','TrainConnector:',train_connectorFolder,'TestConnector:',test_connectorFolder,'Fitness:',conform_replay_heuristics_miner(train_log,test_log))\n",
    "        print('heuristics_alignment','TrainConnector:',train_connectorFolder,'TestConnector:',test_connectorFolder,'Fitness:',conform_alignment_heuristics_miner(train_log,test_log))\n",
    "        print('inductive_token_replay','TrainConnector:',train_connectorFolder,'TestConnector:',test_connectorFolder,'Fitness:',conform_replay_inductive_miner(train_log,test_log))\n",
    "        print('inductive_alignment','TrainConnector:',train_connectorFolder,'TestConnector:',test_connectorFolder,'Fitness:',conform_alignment_inductive_miner(train_log,test_log))\n",
    "\n",
    "    \n"
   ]
  },
  {
   "cell_type": "code",
   "execution_count": null,
   "id": "dad0cc5f-8310-4d9e-a0bd-3395801c9a4f",
   "metadata": {},
   "outputs": [],
   "source": []
  },
  {
   "cell_type": "code",
   "execution_count": null,
   "id": "cd89971a-187c-491c-821a-3074241ef773",
   "metadata": {},
   "outputs": [],
   "source": []
  }
 ],
 "metadata": {
  "kernelspec": {
   "display_name": "Python 3 (ipykernel)",
   "language": "python",
   "name": "python3"
  },
  "language_info": {
   "codemirror_mode": {
    "name": "ipython",
    "version": 3
   },
   "file_extension": ".py",
   "mimetype": "text/x-python",
   "name": "python",
   "nbconvert_exporter": "python",
   "pygments_lexer": "ipython3",
   "version": "3.8.10"
  }
 },
 "nbformat": 4,
 "nbformat_minor": 5
}
